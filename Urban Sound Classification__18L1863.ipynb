{
 "cells": [
  {
   "cell_type": "markdown",
   "metadata": {},
   "source": [
    "#  Urban Sound Dataset\n",
    "In this notebook we will use the Normal Equation, Gradient Descent and Perceptron Learning. Furthermore, we will check the accuracy."
   ]
  },
  {
   "cell_type": "code",
   "execution_count": 1,
   "metadata": {},
   "outputs": [],
   "source": [
    "#Importing relevant libraries\n",
    "import librosa\n",
    "import numpy as np\n",
    "import pandas as pd\n",
    "import matplotlib.pyplot as plt\n",
    "import os\n",
    "import sys"
   ]
  },
  {
   "cell_type": "code",
   "execution_count": 2,
   "metadata": {},
   "outputs": [],
   "source": [
    "data = pd.read_csv('D:/Projects/MLProjects/UrbanSound8K/metadata/UrbanSound8K.csv')"
   ]
  },
  {
   "cell_type": "code",
   "execution_count": 3,
   "metadata": {},
   "outputs": [
    {
     "data": {
      "text/html": [
       "<div>\n",
       "<style scoped>\n",
       "    .dataframe tbody tr th:only-of-type {\n",
       "        vertical-align: middle;\n",
       "    }\n",
       "\n",
       "    .dataframe tbody tr th {\n",
       "        vertical-align: top;\n",
       "    }\n",
       "\n",
       "    .dataframe thead th {\n",
       "        text-align: right;\n",
       "    }\n",
       "</style>\n",
       "<table border=\"1\" class=\"dataframe\">\n",
       "  <thead>\n",
       "    <tr style=\"text-align: right;\">\n",
       "      <th></th>\n",
       "      <th>slice_file_name</th>\n",
       "      <th>fsID</th>\n",
       "      <th>start</th>\n",
       "      <th>end</th>\n",
       "      <th>salience</th>\n",
       "      <th>fold</th>\n",
       "      <th>classID</th>\n",
       "      <th>class</th>\n",
       "    </tr>\n",
       "  </thead>\n",
       "  <tbody>\n",
       "    <tr>\n",
       "      <th>0</th>\n",
       "      <td>100032-3-0-0.wav</td>\n",
       "      <td>100032</td>\n",
       "      <td>0.0</td>\n",
       "      <td>0.317551</td>\n",
       "      <td>1</td>\n",
       "      <td>5</td>\n",
       "      <td>3</td>\n",
       "      <td>dog_bark</td>\n",
       "    </tr>\n",
       "    <tr>\n",
       "      <th>1</th>\n",
       "      <td>100263-2-0-117.wav</td>\n",
       "      <td>100263</td>\n",
       "      <td>58.5</td>\n",
       "      <td>62.500000</td>\n",
       "      <td>1</td>\n",
       "      <td>5</td>\n",
       "      <td>2</td>\n",
       "      <td>children_playing</td>\n",
       "    </tr>\n",
       "    <tr>\n",
       "      <th>2</th>\n",
       "      <td>100263-2-0-121.wav</td>\n",
       "      <td>100263</td>\n",
       "      <td>60.5</td>\n",
       "      <td>64.500000</td>\n",
       "      <td>1</td>\n",
       "      <td>5</td>\n",
       "      <td>2</td>\n",
       "      <td>children_playing</td>\n",
       "    </tr>\n",
       "    <tr>\n",
       "      <th>3</th>\n",
       "      <td>100263-2-0-126.wav</td>\n",
       "      <td>100263</td>\n",
       "      <td>63.0</td>\n",
       "      <td>67.000000</td>\n",
       "      <td>1</td>\n",
       "      <td>5</td>\n",
       "      <td>2</td>\n",
       "      <td>children_playing</td>\n",
       "    </tr>\n",
       "    <tr>\n",
       "      <th>4</th>\n",
       "      <td>100263-2-0-137.wav</td>\n",
       "      <td>100263</td>\n",
       "      <td>68.5</td>\n",
       "      <td>72.500000</td>\n",
       "      <td>1</td>\n",
       "      <td>5</td>\n",
       "      <td>2</td>\n",
       "      <td>children_playing</td>\n",
       "    </tr>\n",
       "  </tbody>\n",
       "</table>\n",
       "</div>"
      ],
      "text/plain": [
       "      slice_file_name    fsID  start        end  salience  fold  classID  \\\n",
       "0    100032-3-0-0.wav  100032    0.0   0.317551         1     5        3   \n",
       "1  100263-2-0-117.wav  100263   58.5  62.500000         1     5        2   \n",
       "2  100263-2-0-121.wav  100263   60.5  64.500000         1     5        2   \n",
       "3  100263-2-0-126.wav  100263   63.0  67.000000         1     5        2   \n",
       "4  100263-2-0-137.wav  100263   68.5  72.500000         1     5        2   \n",
       "\n",
       "              class  \n",
       "0          dog_bark  \n",
       "1  children_playing  \n",
       "2  children_playing  \n",
       "3  children_playing  \n",
       "4  children_playing  "
      ]
     },
     "execution_count": 3,
     "metadata": {},
     "output_type": "execute_result"
    }
   ],
   "source": [
    "#Let's see what this metadata file constitutes of\n",
    "data.head()"
   ]
  },
  {
   "cell_type": "code",
   "execution_count": 4,
   "metadata": {},
   "outputs": [
    {
     "data": {
      "text/plain": [
       "4     990\n",
       "5     936\n",
       "3     925\n",
       "2     888\n",
       "1     873\n",
       "7     838\n",
       "10    837\n",
       "6     823\n",
       "9     816\n",
       "8     806\n",
       "Name: fold, dtype: int64"
      ]
     },
     "execution_count": 4,
     "metadata": {},
     "output_type": "execute_result"
    }
   ],
   "source": [
    "# Count the number of files in each of the folds\n",
    "data[\"fold\"].value_counts()"
   ]
  },
  {
   "cell_type": "code",
   "execution_count": 5,
   "metadata": {},
   "outputs": [],
   "source": [
    "from librosa import display"
   ]
  },
  {
   "cell_type": "markdown",
   "metadata": {},
   "source": [
    "Now we shall see a random .wav file from the dataset and see the features it has"
   ]
  },
  {
   "cell_type": "code",
   "execution_count": 6,
   "metadata": {},
   "outputs": [
    {
     "data": {
      "text/plain": [
       "((40, 14), (40, 14), (40, 14), (40, 14), (40, 14))"
      ]
     },
     "execution_count": 6,
     "metadata": {},
     "output_type": "execute_result"
    }
   ],
   "source": [
    "#Feature set for a random \"dog bark\" file\n",
    "y, sr = librosa.load('D:/Projects/MLProjects/UrbanSound8K/audio/fold5/100032-3-0-0.wav')\n",
    "mfccs = librosa.feature.mfcc(y, sr, n_mfcc=40)\n",
    "melspectrogram = librosa.feature.melspectrogram(y=y, sr=sr, n_mels=40, fmax=8000)\n",
    "chroma_stft = librosa.feature.chroma_stft(y=y, sr=sr, n_chroma=40)\n",
    "chroma_cq = librosa.feature.chroma_cqt(y=y, sr=sr, n_chroma=40)\n",
    "chroma_cens = librosa.feature.chroma_cens(y=y, sr=sr, n_chroma=40)\n",
    "melspectrogram.shape, chroma_stft.shape, chroma_cq.shape, chroma_cens.shape, mfccs.shape"
   ]
  },
  {
   "cell_type": "code",
   "execution_count": 7,
   "metadata": {},
   "outputs": [
    {
     "data": {
      "image/png": "[encoded data removed]",
      "text/plain": [
       "<Figure size 720x288 with 2 Axes>"
      ]
     },
     "metadata": {
      "needs_background": "light"
     },
     "output_type": "display_data"
    }
   ],
   "source": [
    "# Lets plot and examine the MFCC of dog bark\n",
    "plt.figure(figsize=(10,4))\n",
    "librosa.display.specshow(mfccs, x_axis ='time')\n",
    "plt.colorbar()\n",
    "plt.title('MFCC of Dog Bark')\n",
    "plt.tight_layout()"
   ]
  },
  {
   "cell_type": "code",
   "execution_count": 8,
   "metadata": {},
   "outputs": [
    {
     "data": {
      "image/png": "[encoded data removed]",
      "text/plain": [
       "<Figure size 720x288 with 2 Axes>"
      ]
     },
     "metadata": {
      "needs_background": "light"
     },
     "output_type": "display_data"
    }
   ],
   "source": [
    "#Melspectrogram of a dog bark\n",
    "plt.figure(figsize=(10,4))\n",
    "librosa.display.specshow(librosa.power_to_db(melspectrogram, ref=np.max), y_axis='mel', fmax = 8000, x_axis = 'time')\n",
    "plt.colorbar()\n",
    "plt.title('Mel Spectrogram')\n",
    "plt.tight_layout()"
   ]
  },
  {
   "cell_type": "code",
   "execution_count": 9,
   "metadata": {},
   "outputs": [
    {
     "data": {
      "text/plain": [
       "((40,), (40,), (40,), (40,), (40,))"
      ]
     },
     "execution_count": 9,
     "metadata": {},
     "output_type": "execute_result"
    }
   ],
   "source": [
    "#Feature set assembled for a sample file\n",
    "y, sr = librosa.load('D:/Projects/MLProjects/UrbanSound8K/audio/fold5/204408-2-0-83.wav')\n",
    "mfccs = np.mean(librosa.feature.mfcc(y, sr, n_mfcc=40).T, axis=0)\n",
    "melspectrogram = np.mean(librosa.feature.melspectrogram(y=y, sr=sr, n_mels=40, fmax=8000).T, axis=0)\n",
    "chroma_stft = np.mean(librosa.feature.chroma_stft(y=y, sr=sr, n_chroma=40).T, axis=0)\n",
    "chroma_cq = np.mean(librosa.feature.chroma_cqt(y=y, sr=sr, n_chroma=40).T, axis=0)\n",
    "chroma_cens = np.mean(librosa.feature.chroma_cens(y=y, sr=sr, n_chroma=40).T, axis=0)\n",
    "melspectrogram.shape, chroma_stft.shape, chroma_cq.shape, chroma_cens.shape, mfccs.shape"
   ]
  },
  {
   "cell_type": "code",
   "execution_count": 10,
   "metadata": {},
   "outputs": [
    {
     "data": {
      "text/plain": [
       "(40, 5)"
      ]
     },
     "execution_count": 10,
     "metadata": {},
     "output_type": "execute_result"
    }
   ],
   "source": [
    "#Stacking and reshaping the features\n",
    "features = np.reshape(np.vstack((mfccs, melspectrogram, chroma_stft, chroma_cq, chroma_cens)), (40,5))\n",
    "features.shape"
   ]
  },
  {
   "cell_type": "code",
   "execution_count": 10,
   "metadata": {},
   "outputs": [],
   "source": [
    "from tqdm import tqdm"
   ]
  },
  {
   "cell_type": "code",
   "execution_count": 12,
   "metadata": {},
   "outputs": [
    {
     "name": "stderr",
     "output_type": "stream",
     "text": [
      "100%|██████████| 8732/8732 [49:54<00:00,  4.51it/s]  \n"
     ]
    }
   ],
   "source": [
    "# First we will pre-process using only the MFCC Feature\n",
    "X_train = []\n",
    "X_test = []\n",
    "y_train = []\n",
    "y_test = []\n",
    "path = \"D:/Projects/MLProjects/UrbanSound8K/audio/fold\"\n",
    "for i in tqdm(range(len(data))):\n",
    "    fold_no=str(data.iloc[i][\"fold\"])\n",
    "    file=data.iloc[i][\"slice_file_name\"]\n",
    "    label=data.iloc[i][\"classID\"]\n",
    "    filename=path+fold_no+\"/\"+file\n",
    "    #print(filename)\n",
    "    y,sr=librosa.load(filename)\n",
    "    mfccs = np.mean(librosa.feature.mfcc(y, sr, n_mfcc=40).T,axis=0)\n",
    "    #print(mfccs.shape,mfccs.max(),mfccs.min())\n",
    "    if(fold_no!='10'):\n",
    "      X_train.append(mfccs)\n",
    "      y_train.append(label)\n",
    "    else:\n",
    "      X_test.append(mfccs)\n",
    "      y_test.append(label)"
   ]
  },
  {
   "cell_type": "code",
   "execution_count": 13,
   "metadata": {},
   "outputs": [
    {
     "name": "stderr",
     "output_type": "stream",
     "text": [
      "  1%|          | 67/8732 [00:59<2:13:46,  1.08it/s]C:\\Users\\alina\\Anaconda3\\lib\\site-packages\\librosa\\core\\pitch.py:145: UserWarning: Trying to estimate tuning from empty frequency set.\n",
      "  warnings.warn('Trying to estimate tuning from empty frequency set.')\n",
      "100%|██████████| 8732/8732 [2:13:33<00:00,  1.34it/s]  \n"
     ]
    }
   ],
   "source": [
    "X_train=[]\n",
    "X_test=[]\n",
    "y_train=[]\n",
    "y_test=[]\n",
    "path=\"D:/Projects/MLProjects/UrbanSound8K/audio/fold\"\n",
    "for i in tqdm(range(len(data))):\n",
    "    fold_no=str(data.iloc[i][\"fold\"])\n",
    "    file=data.iloc[i][\"slice_file_name\"]\n",
    "    label=data.iloc[i][\"classID\"]\n",
    "    filename=path+fold_no+\"/\"+file\n",
    "    y,sr=librosa.load(filename, duration=5.0)\n",
    "    mfccs = np.mean(librosa.feature.mfcc(y, sr, n_mfcc=40).T,axis=0)\n",
    "    melspectrogram = np.mean(librosa.feature.melspectrogram(y=y, sr=sr, n_mels=40,fmax=8000).T,axis=0)\n",
    "    chroma_stft=np.mean(librosa.feature.chroma_stft(y=y, sr=sr,n_chroma=40).T,axis=0)\n",
    "    chroma_cq = np.mean(librosa.feature.chroma_cqt(y=y, sr=sr,n_chroma=40).T,axis=0)\n",
    "    chroma_cens = np.mean(librosa.feature.chroma_cens(y=y, sr=sr,n_chroma=40).T,axis=0)\n",
    "    features=np.reshape(np.vstack((mfccs,melspectrogram,chroma_stft,chroma_cq,chroma_cens)),(40,5))\n",
    "    if(fold_no!='10'):\n",
    "      X_train.append(features)\n",
    "      y_train.append(label)\n",
    "    else:\n",
    "      X_test.append(features)\n",
    "      y_test.append(label)"
   ]
  },
  {
   "cell_type": "code",
   "execution_count": 14,
   "metadata": {},
   "outputs": [
    {
     "data": {
      "text/plain": [
       "8732"
      ]
     },
     "execution_count": 14,
     "metadata": {},
     "output_type": "execute_result"
    }
   ],
   "source": [
    "len(X_train) + len(X_test)"
   ]
  },
  {
   "cell_type": "code",
   "execution_count": 15,
   "metadata": {},
   "outputs": [
    {
     "data": {
      "text/plain": [
       "((7895, 40, 5), (837, 40, 5), (7895,), (837,))"
      ]
     },
     "execution_count": 15,
     "metadata": {},
     "output_type": "execute_result"
    }
   ],
   "source": [
    "X_train=np.array(X_train)\n",
    "X_test=np.array(X_test)\n",
    "y_train=np.array(y_train)\n",
    "y_test=np.array(y_test)\n",
    "X_train.shape,X_test.shape,y_train.shape,y_test.shape"
   ]
  },
  {
   "cell_type": "code",
   "execution_count": 16,
   "metadata": {},
   "outputs": [
    {
     "data": {
      "text/plain": [
       "((7895, 200), (837, 200))"
      ]
     },
     "execution_count": 16,
     "metadata": {},
     "output_type": "execute_result"
    }
   ],
   "source": [
    "#reshaping into 2d to save in csv format\n",
    "X_train_2d=np.reshape(X_train,(X_train.shape[0],X_train.shape[1]*X_train.shape[2]))\n",
    "X_test_2d=np.reshape(X_test,(X_test.shape[0],X_test.shape[1]*X_test.shape[2]))\n",
    "X_train_2d.shape,X_test_2d.shape"
   ]
  },
  {
   "cell_type": "code",
   "execution_count": 39,
   "metadata": {},
   "outputs": [],
   "source": [
    "# Saving 2d Numpy Data into csv files\n",
    "np.savetxt(\"train_data.csv\", X_train_2d, delimiter=\",\")\n",
    "np.savetxt(\"test_data.csv\",X_test_2d,delimiter=\",\")\n",
    "np.savetxt(\"train_labels.csv\",y_train,delimiter=\",\")\n",
    "np.savetxt(\"test_labels.csv\",y_test,delimiter=\",\")"
   ]
  },
  {
   "cell_type": "code",
   "execution_count": 69,
   "metadata": {},
   "outputs": [],
   "source": [
    "from numpy import genfromtxt\n",
    "X_train = pd.read_csv('train_data.csv').values\n",
    "X_test = pd.read_csv('test_data.csv').values\n",
    "y_train = pd.read_csv('train_labels.csv').values\n",
    "y_test = pd.read_csv('test_labels.csv').values"
   ]
  },
  {
   "cell_type": "code",
   "execution_count": 70,
   "metadata": {},
   "outputs": [
    {
     "data": {
      "text/plain": [
       "((7894, 200), (836, 200), (7894, 1), (836, 1))"
      ]
     },
     "execution_count": 70,
     "metadata": {},
     "output_type": "execute_result"
    }
   ],
   "source": [
    "#shape\n",
    "X_train.shape,X_test.shape,y_train.shape,y_test.shape"
   ]
  },
  {
   "cell_type": "markdown",
   "metadata": {},
   "source": [
    "## Normal Equation Implementation"
   ]
  },
  {
   "cell_type": "markdown",
   "metadata": {},
   "source": [
    "We will be implementing the normal equation."
   ]
  },
  {
   "cell_type": "code",
   "execution_count": 51,
   "metadata": {},
   "outputs": [
    {
     "data": {
      "text/plain": [
       "(200, 7894)"
      ]
     },
     "execution_count": 51,
     "metadata": {},
     "output_type": "execute_result"
    }
   ],
   "source": [
    "# Finding the transpose of the Train Data\n",
    "transpose_matrix = X_train.transpose()\n",
    "transpose_matrix.shape"
   ]
  },
  {
   "cell_type": "code",
   "execution_count": 52,
   "metadata": {},
   "outputs": [
    {
     "data": {
      "text/plain": [
       "(200, 200)"
      ]
     },
     "execution_count": 52,
     "metadata": {},
     "output_type": "execute_result"
    }
   ],
   "source": [
    "# This will be followed by the matrix multiplication of the 'transpose_matrix' and 'X_train'\n",
    "matrix_mult = np.matmul(transpose_matrix , X_train)\n",
    "matrix_mult.shape"
   ]
  },
  {
   "cell_type": "code",
   "execution_count": 53,
   "metadata": {},
   "outputs": [
    {
     "data": {
      "text/plain": [
       "(200, 200)"
      ]
     },
     "execution_count": 53,
     "metadata": {},
     "output_type": "execute_result"
    }
   ],
   "source": [
    "#Inverse of the 'matrix_mult'\n",
    "inverse = np.linalg.pinv(matrix_mult)\n",
    "inverse.shape"
   ]
  },
  {
   "cell_type": "code",
   "execution_count": 54,
   "metadata": {},
   "outputs": [
    {
     "data": {
      "text/plain": [
       "(200, 1)"
      ]
     },
     "execution_count": 54,
     "metadata": {},
     "output_type": "execute_result"
    }
   ],
   "source": [
    "# Matrix Multiplication of the 'transpose_matrix' and 'y_train'\n",
    "mult_ = np.matmul(transpose_matrix, y_train)\n",
    "mult_.shape"
   ]
  },
  {
   "cell_type": "code",
   "execution_count": 55,
   "metadata": {},
   "outputs": [
    {
     "data": {
      "text/plain": [
       "(200, 1)"
      ]
     },
     "execution_count": 55,
     "metadata": {},
     "output_type": "execute_result"
    }
   ],
   "source": [
    "# This is the final weight\n",
    "result_ = np.matmul(inverse,mult_)\n",
    "result_.shape"
   ]
  },
  {
   "cell_type": "code",
   "execution_count": 56,
   "metadata": {},
   "outputs": [
    {
     "data": {
      "text/plain": [
       "(836, 200)"
      ]
     },
     "execution_count": 56,
     "metadata": {},
     "output_type": "execute_result"
    }
   ],
   "source": [
    "#Checking shape of 'X_test'\n",
    "X_test.shape"
   ]
  },
  {
   "cell_type": "code",
   "execution_count": 57,
   "metadata": {},
   "outputs": [],
   "source": [
    "# Making final predictions on the 'X-test' data\n",
    "y_pred = np.dot(X_test, result_)"
   ]
  },
  {
   "cell_type": "code",
   "execution_count": 58,
   "metadata": {},
   "outputs": [
    {
     "data": {
      "text/plain": [
       "array([[ 5.61837189e+00],\n",
       "       [ 1.51616182e-01],\n",
       "       [ 4.46435482e+00],\n",
       "       [-4.00306970e+01],\n",
       "       [ 3.27176182e+00],\n",
       "       [ 4.05026910e+00],\n",
       "       [ 3.88093441e+00],\n",
       "       [ 3.72388879e+00],\n",
       "       [ 3.85537997e+00],\n",
       "       [ 3.71794149e+00],\n",
       "       [ 4.22977749e+00],\n",
       "       [ 4.03675044e+00],\n",
       "       [ 5.13480093e+00],\n",
       "       [ 4.61756355e+00],\n",
       "       [ 4.23736096e+00],\n",
       "       [ 4.23696979e+00],\n",
       "       [ 4.23983388e+00],\n",
       "       [ 2.24200773e+00],\n",
       "       [ 2.99147569e+00],\n",
       "       [ 3.02675281e+00],\n",
       "       [ 3.23709938e+00],\n",
       "       [ 3.23153707e+00],\n",
       "       [ 2.65824267e+00],\n",
       "       [ 3.33728981e+00],\n",
       "       [ 3.77377648e+00],\n",
       "       [ 3.74362837e+00],\n",
       "       [ 3.59593071e+00],\n",
       "       [ 3.52124336e+00],\n",
       "       [ 2.97050429e+00],\n",
       "       [ 2.61191548e+00],\n",
       "       [ 2.96263849e+00],\n",
       "       [ 2.86060101e+00],\n",
       "       [ 2.95568167e+00],\n",
       "       [ 2.76481887e+00],\n",
       "       [ 3.70312076e+00],\n",
       "       [ 3.25503317e+00],\n",
       "       [ 3.21428488e+00],\n",
       "       [ 3.34626622e+00],\n",
       "       [ 3.40479372e+00],\n",
       "       [ 2.95500297e+00],\n",
       "       [ 3.50602063e+00],\n",
       "       [ 2.68850035e+00],\n",
       "       [ 4.00515246e+00],\n",
       "       [ 2.79036531e+00],\n",
       "       [ 2.53923833e+00],\n",
       "       [ 2.97615958e+00],\n",
       "       [ 2.97310566e+00],\n",
       "       [ 3.29594763e+00],\n",
       "       [ 3.13197578e+00],\n",
       "       [ 6.59247810e+00],\n",
       "       [ 7.10999547e+00],\n",
       "       [ 5.95944425e+00],\n",
       "       [ 5.64097299e+00],\n",
       "       [ 5.37640244e+00],\n",
       "       [ 6.59692534e+00],\n",
       "       [ 6.79123102e+00],\n",
       "       [ 6.30045698e+00],\n",
       "       [ 4.05089530e+00],\n",
       "       [ 3.11418644e+00],\n",
       "       [ 3.79780621e+00],\n",
       "       [ 5.16742179e+00],\n",
       "       [ 4.40332338e+00],\n",
       "       [ 1.63791106e+00],\n",
       "       [ 2.03483516e+00],\n",
       "       [ 7.26349263e+00],\n",
       "       [ 7.89386811e+00],\n",
       "       [ 7.79783607e+00],\n",
       "       [ 7.73416931e+00],\n",
       "       [ 8.03656423e+00],\n",
       "       [ 6.92884382e+00],\n",
       "       [ 4.83236879e+00],\n",
       "       [ 1.26887915e+00],\n",
       "       [ 6.13451026e+00],\n",
       "       [ 5.28206776e+00],\n",
       "       [ 5.66569976e+00],\n",
       "       [ 5.01029228e+00],\n",
       "       [ 5.50659712e+00],\n",
       "       [ 5.99654973e+00],\n",
       "       [ 7.39677107e+00],\n",
       "       [ 7.25780676e+00],\n",
       "       [ 8.45405999e+00],\n",
       "       [ 7.68810070e+00],\n",
       "       [ 7.70392555e+00],\n",
       "       [ 7.70557573e+00],\n",
       "       [ 7.19990601e+00],\n",
       "       [ 6.66225635e+00],\n",
       "       [ 6.95225624e+00],\n",
       "       [ 6.77947362e+00],\n",
       "       [ 7.20771605e+00],\n",
       "       [ 8.08332768e+00],\n",
       "       [ 8.22254965e+00],\n",
       "       [ 7.33920429e+00],\n",
       "       [ 3.58196558e+00],\n",
       "       [ 2.68779433e+00],\n",
       "       [ 1.74209103e+00],\n",
       "       [ 3.03218567e+00],\n",
       "       [ 4.47122643e+00],\n",
       "       [ 4.96832217e+00],\n",
       "       [ 3.57080508e+00],\n",
       "       [ 2.29660834e+00],\n",
       "       [ 2.32855375e+00],\n",
       "       [ 3.16003119e+00],\n",
       "       [ 2.07472228e+00],\n",
       "       [ 1.48244720e+00],\n",
       "       [ 1.77212077e+00],\n",
       "       [ 2.58645576e+00],\n",
       "       [ 4.61496473e+00],\n",
       "       [ 4.49518004e+00],\n",
       "       [ 4.80759656e+00],\n",
       "       [ 3.13651657e+00],\n",
       "       [ 2.62589195e+00],\n",
       "       [ 3.64303843e+00],\n",
       "       [ 4.57524323e+00],\n",
       "       [ 4.68901891e+00],\n",
       "       [ 3.21316892e+00],\n",
       "       [ 4.15756797e+00],\n",
       "       [ 3.96032315e+00],\n",
       "       [ 3.76693627e+00],\n",
       "       [ 4.70510945e+00],\n",
       "       [ 3.82629647e+00],\n",
       "       [ 3.96993832e+00],\n",
       "       [ 3.63279676e+00],\n",
       "       [ 2.48278461e+00],\n",
       "       [ 2.97631786e+00],\n",
       "       [ 5.45820400e+00],\n",
       "       [ 4.01018663e+00],\n",
       "       [ 5.72686315e+00],\n",
       "       [ 7.16916194e+00],\n",
       "       [ 6.19729599e+00],\n",
       "       [ 4.77207329e+00],\n",
       "       [ 3.78862803e+00],\n",
       "       [ 4.49867840e+00],\n",
       "       [ 4.98531968e+00],\n",
       "       [ 7.02392583e+00],\n",
       "       [ 6.51694836e+00],\n",
       "       [ 7.34189974e+00],\n",
       "       [ 2.42388329e+00],\n",
       "       [ 5.03313109e+00],\n",
       "       [ 2.84239169e+00],\n",
       "       [ 3.47423570e+00],\n",
       "       [ 6.70190807e+00],\n",
       "       [ 4.55452091e+00],\n",
       "       [ 5.25561460e+00],\n",
       "       [ 5.20673166e+00],\n",
       "       [ 4.93038919e+00],\n",
       "       [ 5.10513438e+00],\n",
       "       [ 5.30686366e+00],\n",
       "       [ 3.32671374e+00],\n",
       "       [ 1.64040382e+00],\n",
       "       [ 4.47159234e+00],\n",
       "       [ 5.14231736e+00],\n",
       "       [ 4.35091555e+00],\n",
       "       [ 3.57114492e+00],\n",
       "       [ 5.99052127e+00],\n",
       "       [ 3.76073474e+00],\n",
       "       [ 6.59814614e+00],\n",
       "       [ 6.75952784e+00],\n",
       "       [ 6.02911114e+00],\n",
       "       [ 5.08525930e+00],\n",
       "       [ 6.06418590e+00],\n",
       "       [ 6.75141482e+00],\n",
       "       [ 4.76662104e+00],\n",
       "       [ 3.76805916e+00],\n",
       "       [ 3.21494277e+00],\n",
       "       [ 4.27916424e+00],\n",
       "       [ 2.96667240e+00],\n",
       "       [ 4.85889752e+00],\n",
       "       [ 4.49857731e+00],\n",
       "       [ 4.19926791e+00],\n",
       "       [ 4.15212609e+00],\n",
       "       [ 3.36862042e+00],\n",
       "       [ 4.48430996e+00],\n",
       "       [ 3.83353896e+00],\n",
       "       [ 4.17785585e+00],\n",
       "       [ 3.96636114e+00],\n",
       "       [ 3.28648317e+00],\n",
       "       [ 3.06051179e+00],\n",
       "       [ 4.86777637e+00],\n",
       "       [ 2.95395562e+00],\n",
       "       [ 2.53541656e+00],\n",
       "       [ 3.16086992e+00],\n",
       "       [ 2.05490222e+00],\n",
       "       [ 1.27779590e+00],\n",
       "       [ 1.48033339e+00],\n",
       "       [ 1.73670234e+00],\n",
       "       [ 1.88315124e+00],\n",
       "       [ 1.90872481e+00],\n",
       "       [ 1.43939866e+00],\n",
       "       [ 2.09204403e+00],\n",
       "       [ 2.06252129e+00],\n",
       "       [ 3.29754738e+00],\n",
       "       [ 3.70915320e+00],\n",
       "       [ 3.89236381e+00],\n",
       "       [ 2.44285696e+00],\n",
       "       [ 2.47873825e+00],\n",
       "       [ 2.52310562e+00],\n",
       "       [ 3.29461033e+00],\n",
       "       [ 3.24834147e+00],\n",
       "       [ 2.75272427e+00],\n",
       "       [ 1.43570748e+00],\n",
       "       [ 1.79712522e+00],\n",
       "       [ 2.67185135e+00],\n",
       "       [ 5.30484745e-01],\n",
       "       [ 3.49026977e+00],\n",
       "       [ 1.41418094e+00],\n",
       "       [ 2.41590095e+00],\n",
       "       [ 1.64408233e-01],\n",
       "       [ 4.58032032e+00],\n",
       "       [ 2.05921378e+00],\n",
       "       [ 5.51247756e+00],\n",
       "       [ 1.32462767e+00],\n",
       "       [ 4.98123044e+00],\n",
       "       [ 5.55088044e+00],\n",
       "       [ 7.30635392e+00],\n",
       "       [ 7.77757490e+00],\n",
       "       [ 9.08300919e+00],\n",
       "       [ 7.93721310e+00],\n",
       "       [ 6.82392757e+00],\n",
       "       [ 6.25506122e+00],\n",
       "       [ 5.58020070e+00],\n",
       "       [ 5.22723472e+00],\n",
       "       [ 6.32303060e+00],\n",
       "       [ 6.47970301e+00],\n",
       "       [ 6.59957338e+00],\n",
       "       [ 7.65839943e+00],\n",
       "       [ 8.43215121e+00],\n",
       "       [ 3.72147830e+00],\n",
       "       [ 3.69194495e+00],\n",
       "       [ 4.57960074e+00],\n",
       "       [ 2.45963043e+00],\n",
       "       [ 3.57164592e+00],\n",
       "       [ 4.49794401e+00],\n",
       "       [ 4.06977525e+00],\n",
       "       [ 1.73264884e+00],\n",
       "       [ 3.80005209e+00],\n",
       "       [ 3.54815209e+00],\n",
       "       [ 3.90865378e+00],\n",
       "       [ 5.42457682e+00],\n",
       "       [ 2.76198701e+00],\n",
       "       [ 2.20851525e+00],\n",
       "       [ 3.30802536e+00],\n",
       "       [ 2.95379425e+00],\n",
       "       [ 2.73797482e+00],\n",
       "       [ 1.87334209e+00],\n",
       "       [ 2.89487302e+00],\n",
       "       [ 1.85654723e+00],\n",
       "       [ 1.72879083e+00],\n",
       "       [ 5.79318817e+00],\n",
       "       [ 4.72173460e+00],\n",
       "       [ 5.37205435e+00],\n",
       "       [ 4.41969569e+00],\n",
       "       [ 3.34609756e+00],\n",
       "       [ 2.46841767e+00],\n",
       "       [ 2.71265530e+00],\n",
       "       [ 4.19962834e+00],\n",
       "       [ 5.23058905e+00],\n",
       "       [ 5.77684245e+00],\n",
       "       [ 4.57681888e+00],\n",
       "       [ 4.75583248e+00],\n",
       "       [ 5.67395169e+00],\n",
       "       [ 3.35255086e+00],\n",
       "       [ 3.48058916e+00],\n",
       "       [ 3.27333260e+00],\n",
       "       [ 1.69497554e+00],\n",
       "       [ 2.37953477e+00],\n",
       "       [ 1.12185231e+00],\n",
       "       [ 3.87999758e+00],\n",
       "       [ 3.13552813e+00],\n",
       "       [ 3.83252159e+00],\n",
       "       [ 2.11316783e+00],\n",
       "       [ 4.09352217e+00],\n",
       "       [ 3.37260424e+00],\n",
       "       [ 3.23744932e+00],\n",
       "       [ 2.86293420e+00],\n",
       "       [ 2.86663971e+00],\n",
       "       [ 3.62521238e+00],\n",
       "       [ 2.64270031e+00],\n",
       "       [ 1.83955261e+00],\n",
       "       [ 2.18305929e+00],\n",
       "       [ 2.77318490e+00],\n",
       "       [ 3.31437617e+00],\n",
       "       [ 2.66953390e+00],\n",
       "       [ 1.88602570e+00],\n",
       "       [ 1.76303025e+00],\n",
       "       [ 4.36132033e+00],\n",
       "       [ 2.45033639e+00],\n",
       "       [ 2.42292777e+00],\n",
       "       [ 4.05190779e+00],\n",
       "       [ 5.94603127e+00],\n",
       "       [ 4.38535129e+00],\n",
       "       [ 4.05450346e+00],\n",
       "       [ 3.40725527e+00],\n",
       "       [ 4.12674124e+00],\n",
       "       [ 3.17750916e+00],\n",
       "       [ 4.20927312e+00],\n",
       "       [ 4.16751062e+00],\n",
       "       [ 3.72136066e+00],\n",
       "       [ 7.33262299e+00],\n",
       "       [ 4.90777104e+00],\n",
       "       [ 3.95096345e+00],\n",
       "       [ 5.27683763e+00],\n",
       "       [ 4.82229465e+00],\n",
       "       [ 4.42471081e+00],\n",
       "       [ 5.72483470e+00],\n",
       "       [ 6.68854521e+00],\n",
       "       [ 3.50632420e+00],\n",
       "       [ 4.28978799e+00],\n",
       "       [ 4.28522653e+00],\n",
       "       [ 5.25042179e+00],\n",
       "       [ 7.00506461e+00],\n",
       "       [ 7.42878126e+00],\n",
       "       [ 9.08469307e+00],\n",
       "       [ 7.57678336e+00],\n",
       "       [ 3.21765230e+00],\n",
       "       [ 5.39437549e+00],\n",
       "       [ 5.61628435e+00],\n",
       "       [ 5.94713561e+00],\n",
       "       [ 3.61651521e+00],\n",
       "       [ 4.29821563e+00],\n",
       "       [ 3.89240684e+00],\n",
       "       [ 3.42612587e+00],\n",
       "       [ 3.86899147e+00],\n",
       "       [ 3.22694906e+00],\n",
       "       [ 3.27485567e+00],\n",
       "       [ 2.57755980e+00],\n",
       "       [ 3.36565495e+00],\n",
       "       [ 3.18392452e+00],\n",
       "       [ 3.51060868e+00],\n",
       "       [ 2.91899432e+00],\n",
       "       [ 4.31451456e+00],\n",
       "       [ 3.93542267e+00],\n",
       "       [ 2.88702972e+00],\n",
       "       [ 3.30912750e+00],\n",
       "       [ 3.15698370e+00],\n",
       "       [ 2.98866321e+00],\n",
       "       [ 3.39607656e+00],\n",
       "       [ 2.80146982e+00],\n",
       "       [ 2.70780856e+00],\n",
       "       [ 1.83478307e+00],\n",
       "       [ 3.30519776e+00],\n",
       "       [ 3.13843775e+00],\n",
       "       [ 3.19972344e+00],\n",
       "       [ 4.04525780e+00],\n",
       "       [ 2.55237304e+00],\n",
       "       [ 8.24284812e-01],\n",
       "       [ 1.98975672e+00],\n",
       "       [ 2.15701739e+00],\n",
       "       [ 5.08436815e+00],\n",
       "       [ 3.03456436e+00],\n",
       "       [ 4.52336989e+00],\n",
       "       [ 3.66543683e+00],\n",
       "       [ 4.17472421e+00],\n",
       "       [ 3.02460104e+00],\n",
       "       [ 2.18932024e+00],\n",
       "       [ 4.11571752e+00],\n",
       "       [ 3.69216312e+00],\n",
       "       [ 6.76656507e+00],\n",
       "       [ 8.18475967e+00],\n",
       "       [ 6.85465115e+00],\n",
       "       [ 5.43539275e+00],\n",
       "       [ 6.01212702e+00],\n",
       "       [ 8.06501253e+00],\n",
       "       [ 2.07879238e+00],\n",
       "       [ 2.38816907e+00],\n",
       "       [ 2.30510505e+00],\n",
       "       [ 2.08025047e+00],\n",
       "       [ 1.43098528e+00],\n",
       "       [ 1.45141992e+00],\n",
       "       [ 2.14776138e+00],\n",
       "       [ 3.23513512e+00],\n",
       "       [ 3.71824087e+00],\n",
       "       [ 4.66749232e+00],\n",
       "       [ 5.17576217e+00],\n",
       "       [-1.53853464e+00],\n",
       "       [ 6.09926990e+00],\n",
       "       [ 5.62358308e+00],\n",
       "       [ 6.65213542e+00],\n",
       "       [ 5.52423696e+00],\n",
       "       [ 5.06844789e+00],\n",
       "       [ 5.90750163e+00],\n",
       "       [ 5.79150531e+00],\n",
       "       [ 6.09674348e+00],\n",
       "       [ 5.49967839e+00],\n",
       "       [ 5.39029872e+00],\n",
       "       [ 1.98240554e-02],\n",
       "       [ 2.40703495e+00],\n",
       "       [ 1.12500297e+00],\n",
       "       [ 2.82801966e+00],\n",
       "       [ 3.03996011e+00],\n",
       "       [ 3.32888359e+00],\n",
       "       [ 3.72187772e+00],\n",
       "       [ 3.77810008e+00],\n",
       "       [ 3.00878762e+00],\n",
       "       [-2.21035477e+00],\n",
       "       [ 6.85404194e+00],\n",
       "       [ 5.29941772e+00],\n",
       "       [ 3.43385534e+00],\n",
       "       [ 3.61031030e+00],\n",
       "       [ 2.53242446e+00],\n",
       "       [ 2.75966777e+00],\n",
       "       [ 4.65825570e+00],\n",
       "       [ 4.48092644e+00],\n",
       "       [ 3.53914013e+00],\n",
       "       [ 1.95762399e+00],\n",
       "       [ 4.26388996e+00],\n",
       "       [ 3.60218811e+00],\n",
       "       [ 3.96752633e+00],\n",
       "       [ 4.12377376e+00],\n",
       "       [ 4.24430013e+00],\n",
       "       [ 3.70656110e+00],\n",
       "       [ 4.03589192e+00],\n",
       "       [ 4.83264708e+00],\n",
       "       [ 4.20605489e+00],\n",
       "       [ 3.47507089e+00],\n",
       "       [ 3.84041445e+00],\n",
       "       [ 3.72990254e+00],\n",
       "       [ 2.10367836e+00],\n",
       "       [-1.04036549e+00],\n",
       "       [ 2.32662164e+00],\n",
       "       [-6.57277690e-01],\n",
       "       [ 1.60309449e+00],\n",
       "       [-2.33577414e-01],\n",
       "       [ 7.14684325e-01],\n",
       "       [ 2.73337780e+00],\n",
       "       [ 2.18883655e+00],\n",
       "       [ 3.29081166e+00],\n",
       "       [ 1.84633068e+00],\n",
       "       [ 4.20144058e+00],\n",
       "       [ 4.51071860e+00],\n",
       "       [ 2.87133915e+00],\n",
       "       [ 3.67736451e+00],\n",
       "       [ 3.63442128e+00],\n",
       "       [ 5.46057786e+00],\n",
       "       [ 2.78477131e+00],\n",
       "       [ 4.28814800e+00],\n",
       "       [ 6.51784840e+00],\n",
       "       [ 6.27099882e+00],\n",
       "       [ 8.73551128e+00],\n",
       "       [ 8.67634178e+00],\n",
       "       [ 6.53630091e+00],\n",
       "       [ 8.03222566e+00],\n",
       "       [ 4.96815957e+00],\n",
       "       [ 5.73203484e+00],\n",
       "       [ 7.19158046e+00],\n",
       "       [ 6.62622399e+00],\n",
       "       [ 5.98045200e+00],\n",
       "       [ 5.18459172e+00],\n",
       "       [ 5.55564830e+00],\n",
       "       [ 5.82468998e+00],\n",
       "       [ 3.12733919e+00],\n",
       "       [ 5.70861347e+00],\n",
       "       [ 5.68475288e+00],\n",
       "       [ 5.54322760e+00],\n",
       "       [ 4.04422224e+00],\n",
       "       [ 2.97917732e+00],\n",
       "       [ 5.01581126e+00],\n",
       "       [ 5.45541191e+00],\n",
       "       [ 3.71287780e+00],\n",
       "       [ 4.08187315e+00],\n",
       "       [ 2.53029255e+00],\n",
       "       [ 3.40284273e+00],\n",
       "       [ 4.44112450e+00],\n",
       "       [ 5.17931362e+00],\n",
       "       [ 5.84690098e+00],\n",
       "       [ 4.67848546e+00],\n",
       "       [ 6.07830270e+00],\n",
       "       [ 5.64736465e+00],\n",
       "       [ 4.66217317e-01],\n",
       "       [ 1.52162216e+00],\n",
       "       [ 1.90417798e+00],\n",
       "       [ 1.71573840e+00],\n",
       "       [ 1.61206715e+00],\n",
       "       [ 1.32916863e+00],\n",
       "       [ 3.70701347e+00],\n",
       "       [ 1.76236883e+00],\n",
       "       [ 2.48358572e+00],\n",
       "       [ 4.11250818e+00],\n",
       "       [ 4.62645166e+00],\n",
       "       [ 3.19551079e+00],\n",
       "       [ 5.37319996e+00],\n",
       "       [ 5.68024074e+00],\n",
       "       [ 4.95480450e+00],\n",
       "       [ 3.93383715e+00],\n",
       "       [ 4.26633869e+00],\n",
       "       [ 5.19628674e+00],\n",
       "       [ 1.38569976e+00],\n",
       "       [ 3.82880753e+00],\n",
       "       [ 4.13215425e+00],\n",
       "       [ 4.38784342e+00],\n",
       "       [ 4.39232374e+00],\n",
       "       [ 3.02668737e+00],\n",
       "       [ 3.40173886e+00],\n",
       "       [ 3.53086475e+00],\n",
       "       [ 2.96878488e+00],\n",
       "       [ 4.01559363e+00],\n",
       "       [ 2.52009904e+00],\n",
       "       [ 1.80928494e+00],\n",
       "       [ 2.85113202e+00],\n",
       "       [ 3.14835195e+00],\n",
       "       [ 3.36079666e+00],\n",
       "       [ 3.33692616e+00],\n",
       "       [ 4.98652867e+00],\n",
       "       [ 3.48074269e+00],\n",
       "       [ 3.67796925e+00],\n",
       "       [ 3.13369759e+00],\n",
       "       [ 3.49196715e+00],\n",
       "       [ 4.10696355e-01],\n",
       "       [ 8.35153361e-01],\n",
       "       [ 1.52203047e+00],\n",
       "       [ 1.08382534e+00],\n",
       "       [ 4.94461933e+00],\n",
       "       [ 3.49904445e+00],\n",
       "       [ 3.72424595e+00],\n",
       "       [ 3.15422135e+00],\n",
       "       [ 2.17306791e+00],\n",
       "       [ 3.74754081e+00],\n",
       "       [ 4.04510955e+00],\n",
       "       [ 2.11118286e+00],\n",
       "       [ 2.92315443e+00],\n",
       "       [ 3.45237306e+00],\n",
       "       [ 4.45173378e+00],\n",
       "       [ 2.99954855e+00],\n",
       "       [ 3.33545007e+00],\n",
       "       [ 4.53702267e+00],\n",
       "       [ 5.79936884e+00],\n",
       "       [ 3.31115898e+00],\n",
       "       [ 1.90112959e+00],\n",
       "       [ 4.65953172e+00],\n",
       "       [ 6.12595341e+00],\n",
       "       [ 4.29638256e+00],\n",
       "       [ 4.06873831e+00],\n",
       "       [ 4.58705034e+00],\n",
       "       [ 5.17943349e+00],\n",
       "       [ 5.21745764e+00],\n",
       "       [ 4.82091659e+00],\n",
       "       [ 7.65401341e+00],\n",
       "       [ 7.41804254e+00],\n",
       "       [ 6.14301615e+00],\n",
       "       [ 8.47116561e+00],\n",
       "       [ 8.41591776e+00],\n",
       "       [ 5.61590519e+00],\n",
       "       [ 5.40096474e+00],\n",
       "       [ 4.67736725e+00],\n",
       "       [ 5.20717285e+00],\n",
       "       [ 3.15645805e+00],\n",
       "       [ 6.49006707e+00],\n",
       "       [ 4.63279339e+00],\n",
       "       [ 5.18545487e+00],\n",
       "       [ 4.00304820e+00],\n",
       "       [ 3.43963827e+00],\n",
       "       [ 4.67382097e+00],\n",
       "       [ 5.26840545e+00],\n",
       "       [ 5.26435504e+00],\n",
       "       [ 6.00713380e+00],\n",
       "       [ 5.34928291e+00],\n",
       "       [ 4.73815315e+00],\n",
       "       [ 6.36876161e+00],\n",
       "       [ 5.31822801e+00],\n",
       "       [ 7.23934994e+00],\n",
       "       [ 6.35008209e+00],\n",
       "       [ 7.85841517e+00],\n",
       "       [ 5.15370896e+00],\n",
       "       [ 4.51356979e+00],\n",
       "       [ 9.31777614e-01],\n",
       "       [ 3.40143966e+00],\n",
       "       [ 3.11280131e+00],\n",
       "       [ 3.70251717e+00],\n",
       "       [ 5.27540142e+00],\n",
       "       [ 5.75258853e+00],\n",
       "       [ 2.81942846e+00],\n",
       "       [ 6.98123083e-01],\n",
       "       [ 2.67560318e+00],\n",
       "       [ 5.21802339e+00],\n",
       "       [ 3.87629814e+00],\n",
       "       [ 9.06920365e+00],\n",
       "       [ 7.15726316e+00],\n",
       "       [ 5.36765614e+00],\n",
       "       [ 4.53995249e+00],\n",
       "       [ 5.09489512e+00],\n",
       "       [ 2.42341827e+00],\n",
       "       [ 2.83044909e+00],\n",
       "       [ 4.61539517e+00],\n",
       "       [ 4.07501854e+00],\n",
       "       [ 3.41508262e+00],\n",
       "       [ 4.76879084e+00],\n",
       "       [ 4.56780022e+00],\n",
       "       [ 2.17823159e+00],\n",
       "       [ 1.38929827e+00],\n",
       "       [ 7.08694629e-01],\n",
       "       [ 3.04573763e+00],\n",
       "       [ 2.40417135e+00],\n",
       "       [ 2.78683801e-01],\n",
       "       [ 4.71642464e+00],\n",
       "       [ 4.68935041e+00],\n",
       "       [ 3.88084916e+00],\n",
       "       [ 3.50782682e+00],\n",
       "       [ 2.74201694e+00],\n",
       "       [ 4.13618620e+00],\n",
       "       [ 3.68921826e+00],\n",
       "       [ 3.80946253e+00],\n",
       "       [ 3.64819436e+00],\n",
       "       [ 3.98939828e+00],\n",
       "       [-1.09751181e+01],\n",
       "       [ 4.29884341e+00],\n",
       "       [ 4.52544119e+00],\n",
       "       [ 2.99348693e+00],\n",
       "       [ 2.81456079e+00],\n",
       "       [ 6.08045977e+00],\n",
       "       [ 4.12077198e+00],\n",
       "       [ 3.25059882e+00],\n",
       "       [ 4.00087508e+00],\n",
       "       [ 4.64066967e+00],\n",
       "       [ 4.14423014e+00],\n",
       "       [ 5.73966987e+00],\n",
       "       [ 4.84183344e+00],\n",
       "       [ 1.07162803e+01],\n",
       "       [ 1.04347644e+01],\n",
       "       [ 1.13019492e+01],\n",
       "       [ 1.20085914e+01],\n",
       "       [ 9.96311691e+00],\n",
       "       [ 1.07735530e+01],\n",
       "       [ 1.13574522e+01],\n",
       "       [ 1.12566059e+01],\n",
       "       [ 1.03521019e+01],\n",
       "       [ 1.11927477e+01],\n",
       "       [ 1.16045030e+01],\n",
       "       [ 1.06765454e+01],\n",
       "       [ 1.00641590e+01],\n",
       "       [ 6.48211337e+00],\n",
       "       [ 5.37840174e+00],\n",
       "       [ 4.68966628e+00],\n",
       "       [ 5.34333651e+00],\n",
       "       [ 5.38329821e+00],\n",
       "       [ 5.36606975e+00],\n",
       "       [ 5.77077252e+00],\n",
       "       [ 6.39800591e+00],\n",
       "       [ 2.24128804e+00],\n",
       "       [ 3.36763759e+00],\n",
       "       [ 3.99190817e+00],\n",
       "       [ 4.59809390e+00],\n",
       "       [ 4.82768336e+00],\n",
       "       [ 4.75530227e+00],\n",
       "       [ 4.11605549e+00],\n",
       "       [ 3.96588835e+00],\n",
       "       [ 3.15381730e+00],\n",
       "       [ 4.47195304e+00],\n",
       "       [ 6.94233676e+00],\n",
       "       [ 4.66953118e+00],\n",
       "       [ 6.24249248e+00],\n",
       "       [ 5.30648088e+00],\n",
       "       [ 4.81519299e+00],\n",
       "       [ 4.79969258e+00],\n",
       "       [ 4.22563638e+00],\n",
       "       [ 4.20933678e+00],\n",
       "       [ 3.69063943e+00],\n",
       "       [ 3.47508829e+00],\n",
       "       [ 3.42011610e+00],\n",
       "       [ 2.56605575e+00],\n",
       "       [ 3.27373351e+00],\n",
       "       [ 2.42333690e+00],\n",
       "       [ 1.98235332e+00],\n",
       "       [ 2.42491311e+00],\n",
       "       [ 2.58578722e+00],\n",
       "       [ 2.97972058e+00],\n",
       "       [ 2.75697228e+00],\n",
       "       [ 2.73011269e+00],\n",
       "       [ 2.95488822e+00],\n",
       "       [ 2.72914884e+00],\n",
       "       [ 2.88918479e+00],\n",
       "       [ 2.94651506e+00],\n",
       "       [ 2.60419948e+00],\n",
       "       [ 2.08572160e+00],\n",
       "       [ 2.96896888e+00],\n",
       "       [ 2.20563137e+00],\n",
       "       [ 2.38468855e+00],\n",
       "       [ 2.55321391e+00],\n",
       "       [ 1.79143453e+00],\n",
       "       [ 2.71371997e+00],\n",
       "       [ 3.23869342e+00],\n",
       "       [ 2.95616127e+00],\n",
       "       [ 2.92007887e+00],\n",
       "       [ 2.77333029e+00],\n",
       "       [ 2.41134211e+00],\n",
       "       [ 3.26263136e+00],\n",
       "       [ 3.05823804e+00],\n",
       "       [ 2.93190062e+00],\n",
       "       [ 3.25192132e+00],\n",
       "       [ 4.32025571e+00],\n",
       "       [ 5.54747490e+00],\n",
       "       [ 2.58746123e+00],\n",
       "       [ 2.62634262e+00],\n",
       "       [ 1.51556639e+00],\n",
       "       [ 3.71961025e+00],\n",
       "       [ 4.03797502e+00],\n",
       "       [ 5.04270955e+00],\n",
       "       [ 6.06323179e+00],\n",
       "       [ 4.95000566e+00],\n",
       "       [ 4.66469875e+00],\n",
       "       [ 3.37577745e+00],\n",
       "       [ 5.21838988e+00],\n",
       "       [ 3.06670762e+00],\n",
       "       [ 3.93863384e+00],\n",
       "       [ 3.83282204e+00],\n",
       "       [ 3.81483517e+00],\n",
       "       [ 3.05641165e+00],\n",
       "       [ 2.78546914e+00],\n",
       "       [ 3.36401174e+00],\n",
       "       [ 2.79699886e+00],\n",
       "       [ 5.26061354e+00],\n",
       "       [ 4.87968813e+00],\n",
       "       [ 4.55813347e+00],\n",
       "       [ 4.29214728e+00],\n",
       "       [ 4.10619602e+00],\n",
       "       [ 3.49016642e+00],\n",
       "       [ 1.48174295e+00],\n",
       "       [ 4.02625507e+00],\n",
       "       [ 3.36218965e+00],\n",
       "       [ 3.11270806e+00],\n",
       "       [ 2.88268125e+00],\n",
       "       [ 1.73615427e+00],\n",
       "       [ 3.49824772e+00],\n",
       "       [ 2.50428685e+00],\n",
       "       [ 1.71421098e+00],\n",
       "       [ 6.45249613e+00],\n",
       "       [ 6.75474188e+00],\n",
       "       [ 7.81943660e+00],\n",
       "       [ 7.73382660e+00],\n",
       "       [ 7.37695910e+00],\n",
       "       [ 7.54007897e+00],\n",
       "       [ 6.60474662e+00],\n",
       "       [ 6.17938200e+00],\n",
       "       [ 6.18052643e+00],\n",
       "       [ 5.59521357e+00],\n",
       "       [ 5.65217863e+00],\n",
       "       [ 6.23561291e+00],\n",
       "       [ 1.83689896e+00],\n",
       "       [ 4.30239532e+00],\n",
       "       [ 4.20676479e+00],\n",
       "       [ 1.50777426e+00],\n",
       "       [-9.00471451e-02],\n",
       "       [ 3.64444438e+00],\n",
       "       [ 2.58696813e+00],\n",
       "       [ 3.89173918e+00],\n",
       "       [ 4.59290663e+00],\n",
       "       [ 6.47670685e+00],\n",
       "       [ 7.32250849e+00],\n",
       "       [ 6.80176256e+00],\n",
       "       [ 9.29567641e+00],\n",
       "       [ 4.48892611e+00],\n",
       "       [ 8.65808640e+00],\n",
       "       [ 8.57240805e+00],\n",
       "       [ 5.79715910e+00],\n",
       "       [ 5.66186857e+00],\n",
       "       [ 8.65323793e+00],\n",
       "       [ 9.27397950e+00],\n",
       "       [ 6.08378571e+00],\n",
       "       [ 5.19272265e+00],\n",
       "       [ 3.86378345e+00],\n",
       "       [ 3.71528690e+00],\n",
       "       [ 3.33807302e+00],\n",
       "       [ 4.72888872e+00],\n",
       "       [ 5.59498583e+00],\n",
       "       [ 4.55541074e+00],\n",
       "       [ 4.90064433e+00],\n",
       "       [ 4.97222092e+00],\n",
       "       [ 4.42841167e+00],\n",
       "       [ 5.01761147e+00],\n",
       "       [ 3.85974497e+00],\n",
       "       [ 4.16075894e+00],\n",
       "       [ 3.90766597e+00],\n",
       "       [ 3.14632749e+00],\n",
       "       [ 7.05222033e+00],\n",
       "       [ 6.84288884e+00],\n",
       "       [ 6.30294376e+00],\n",
       "       [ 4.89866334e+00],\n",
       "       [ 6.27830346e+00],\n",
       "       [ 7.33531816e+00],\n",
       "       [ 4.75547671e+00],\n",
       "       [ 3.51228488e+00],\n",
       "       [ 3.10535912e+00],\n",
       "       [ 3.84899362e+00],\n",
       "       [ 4.47570237e+00],\n",
       "       [ 6.16441229e+00],\n",
       "       [ 5.66660357e+00],\n",
       "       [ 4.73864673e+00],\n",
       "       [ 4.94206252e+00],\n",
       "       [ 6.11807504e+00],\n",
       "       [ 4.19746350e+00],\n",
       "       [ 3.92883611e+00],\n",
       "       [ 3.83728474e+00],\n",
       "       [ 5.15613542e+00],\n",
       "       [ 4.88607062e+00],\n",
       "       [ 4.69677584e+00],\n",
       "       [ 5.01724309e+00],\n",
       "       [ 4.41143005e+00],\n",
       "       [ 5.63052876e+00],\n",
       "       [ 6.51123507e+00],\n",
       "       [ 5.20774395e+00],\n",
       "       [ 6.41107381e+00],\n",
       "       [ 5.93697576e+00],\n",
       "       [ 4.72913939e+00],\n",
       "       [ 4.69577819e+00],\n",
       "       [ 3.89321914e+00],\n",
       "       [ 4.08037666e+00],\n",
       "       [ 5.04894635e+00],\n",
       "       [ 4.27835913e+00],\n",
       "       [ 3.67705356e+00],\n",
       "       [ 4.39490228e+00],\n",
       "       [ 3.00465023e+00],\n",
       "       [ 4.38952742e+00],\n",
       "       [ 4.98027489e+00],\n",
       "       [ 4.32842542e+00],\n",
       "       [ 2.65042994e+00],\n",
       "       [ 3.67694242e+00],\n",
       "       [ 4.52845779e+00],\n",
       "       [ 6.59967988e+00],\n",
       "       [ 5.19883165e+00],\n",
       "       [ 3.70311115e+00],\n",
       "       [ 3.15354822e+00],\n",
       "       [ 4.51342230e+00],\n",
       "       [ 4.75939556e+00],\n",
       "       [ 6.11892430e+00],\n",
       "       [ 4.72220723e+00],\n",
       "       [ 5.15136855e+00],\n",
       "       [ 4.35565355e+00],\n",
       "       [ 2.89341223e+00],\n",
       "       [ 3.49890231e+00],\n",
       "       [ 5.45793708e+00],\n",
       "       [ 4.76613196e+00],\n",
       "       [ 6.08120782e+00],\n",
       "       [ 5.55154111e+00],\n",
       "       [ 3.12971383e+00],\n",
       "       [ 3.72391083e+00],\n",
       "       [ 4.39617353e+00],\n",
       "       [ 4.29011051e+00],\n",
       "       [ 4.21470904e+00]])"
      ]
     },
     "execution_count": 58,
     "metadata": {},
     "output_type": "execute_result"
    }
   ],
   "source": [
    "#y_test\n",
    "y_pred"
   ]
  },
  {
   "cell_type": "markdown",
   "metadata": {},
   "source": [
    "## Gradient Descent Implementation"
   ]
  },
  {
   "cell_type": "markdown",
   "metadata": {},
   "source": [
    "We shall be implementing gradient descent with the cost fucntion"
   ]
  },
  {
   "cell_type": "code",
   "execution_count": 62,
   "metadata": {},
   "outputs": [],
   "source": [
    "#Normalizes each pixel column[-1,1]\n",
    "#np.seterr(divide='ignore', invalid='ignore')\n",
    "def normalize(X):\n",
    "    M = X.shape[1]\n",
    "    for i in range(M):\n",
    "        if np.any(X[:,i]) != 0:\n",
    "            min_value = X[:,i].min()\n",
    "            max_value = X[:,i].max()\n",
    "            X[:,i] =(2*X[:,i]- min_value - max_value)/(max_value - min_value)\n",
    "\n",
    "def append_ones(X):\n",
    "    s = X.shape[0]\n",
    "    ones = np.ones(shape=(s,1))\n",
    "    return np.concatenate((ones, X), axis=1)\n",
    "\n",
    "# Hence using the normalize and append_ones on both 'X_train' and 'X_test'\n",
    "X_train = np.array(X_train)\n",
    "normalize(X_train)\n",
    "X_train = append_ones(X_train)\n",
    "\n",
    "X_test = np.array(X_test)\n",
    "normalize(X_test)\n",
    "X_test = append_ones(X_test)"
   ]
  },
  {
   "cell_type": "code",
   "execution_count": 74,
   "metadata": {},
   "outputs": [],
   "source": [
    "# Now we need to create a vector for each label to be stored\n",
    "y_target = []\n",
    "for i in range(10):\n",
    "    y_target.append(y_train.apply(lambda x: 1 if x == i else 0))"
   ]
  },
  {
   "cell_type": "code",
   "execution_count": 66,
   "metadata": {},
   "outputs": [],
   "source": [
    "theta=[]\n",
    "\n",
    "#Cost Function \n",
    "def cost(X, y , theta):\n",
    "    dim = X.shape[0]\n",
    "    dot_product = np.power(((X @ theta.T) - y), 2)\n",
    "    return np.sum(dot_product) / (2 * dim)\n",
    "    \n",
    "#Gradient of the cost function\n",
    "def grad_cost(X, y, theta):\n",
    "    dim = X.shape[0]\n",
    "    pred = np.dot(X,theta)\n",
    "    c1 = 1/dim * np.transpose(pred-y)\n",
    "    return np.transpose(np.dot(c1,X))\n",
    "\n",
    "#Gradient descent \n",
    "def grad_descent(X, y, theta, learning_par, num_iter):\n",
    "    for i in range(num_iter):\n",
    "        theta = theta - learning_par*grad_cost(X,y,theta)\n",
    "        \n",
    "    return theta"
   ]
  },
  {
   "cell_type": "code",
   "execution_count": 73,
   "metadata": {},
   "outputs": [],
   "source": [
    "# Main Implementation\n",
    "for i in range(10):\n",
    "    y_temp = np.array(y_target[i])\n",
    "    y_temp = y_temp.reshape(y_train.shape[0],1)\n",
    "\n",
    "    theta_temp = np.zeros(shape=(X_train.shape[1],1))\n",
    "\n",
    "    learning_rate = 0.0000001\n",
    "    iterations = 1000\n",
    "\n",
    "    theta_temp = grad_descent(X_train,y_temp,theta_temp,learning_rate,iterations)\n",
    "    theta.append(theta_temp)"
   ]
  },
  {
   "cell_type": "code",
   "execution_count": 88,
   "metadata": {},
   "outputs": [
    {
     "name": "stdout",
     "output_type": "stream",
     "text": [
      "Accuracy is: .765\n"
     ]
    }
   ],
   "source": [
    "result = [np.dot(X_test,theta[i]) for i in range(10)]\n",
    "result = np.transpose(np.array(result)).reshape(X_test.shape[0],10)\n",
    "\n",
    "prediction = (np.array([element.argmax() for element in result])).reshape(X_test.shape[0],1)\n",
    "\n",
    "y_test = np.array(y_test)\n",
    "y_test = y_test.reshape(y_test.shape[0],1)\n",
    "\n",
    "\n",
    "accuracy = sum(prediction == y_test)[0]/(y_test.shape[0])\n",
    "print('Accuracy is: {}'.format(accuracy))"
   ]
  },
  {
   "cell_type": "markdown",
   "metadata": {},
   "source": [
    "The accuracy is very good, around 76.5%. We shall now implement Perceptron Learning and see if we can further improve."
   ]
  },
  {
   "cell_type": "markdown",
   "metadata": {},
   "source": [
    "## Perceptron Learning"
   ]
  },
  {
   "cell_type": "markdown",
   "metadata": {},
   "source": [
    "Furthering our learning to see if this increases the accuracy"
   ]
  },
  {
   "cell_type": "code",
   "execution_count": 75,
   "metadata": {},
   "outputs": [],
   "source": [
    "# Now we shall create functions to work on Perceptron Learning Model\n",
    "def create_weights(data):\n",
    "    a, b = np.shape(data)\n",
    "    weights = np.random.rand(b,1)\n",
    "    return weights\n",
    "\n",
    "weights = create_weights(X_train)"
   ]
  },
  {
   "cell_type": "code",
   "execution_count": 77,
   "metadata": {},
   "outputs": [],
   "source": [
    "def predict(points, weights):\n",
    "    b = np.dot(points, weights)\n",
    "    a = b>0\n",
    "    return a*1"
   ]
  },
  {
   "cell_type": "code",
   "execution_count": 78,
   "metadata": {},
   "outputs": [],
   "source": [
    "# Now we need to call this for all the 10 digits but first we need to make it work for one number\n",
    "def one_digit(labels, number):\n",
    "    return (labels == number)*1"
   ]
  },
  {
   "cell_type": "code",
   "execution_count": 79,
   "metadata": {},
   "outputs": [],
   "source": [
    "# We shall use a function to update values, and call the predict function\n",
    "def update(weights, points, labels, learning_rate=.1):\n",
    "    predicted = predict(points, weights)\n",
    "    temp = np.zeros(np.shape(weights))\n",
    "    temp[:,0] = learning_rate*(labels-predicted)*points\n",
    "    return temp+weights"
   ]
  },
  {
   "cell_type": "code",
   "execution_count": 80,
   "metadata": {},
   "outputs": [],
   "source": [
    "# Now we shall train the perceptron on the training dataset\n",
    "def perceptron(data, labels, weights, learning_rate = .001, iterations = 100):\n",
    "    for j in range(0, iterations):\n",
    "        for i in range(0, len(data)):\n",
    "            weights = update(weights, data[i], labels[i], learning_rate)\n",
    "    return weights"
   ]
  },
  {
   "cell_type": "code",
   "execution_count": 81,
   "metadata": {},
   "outputs": [],
   "source": [
    "# Calling this for all 10 digits\n",
    "def all_digits(data,labels):\n",
    "    c,d = np.shape(data)\n",
    "    w = create_weights(data)\n",
    "    weights = []\n",
    "    for i in range(0,  len(np.unique(labels))):\n",
    "        z = one_digit(labels, i)\n",
    "        a = perceptron(data, z, w, .1, 4)\n",
    "        weights.append(a[:,0])\n",
    "    return np.asarray(weights)"
   ]
  },
  {
   "cell_type": "code",
   "execution_count": 82,
   "metadata": {},
   "outputs": [],
   "source": [
    "Value = all_digits(X_train, y_train)"
   ]
  },
  {
   "cell_type": "code",
   "execution_count": 83,
   "metadata": {},
   "outputs": [],
   "source": [
    "def result(data, weights):\n",
    "    a = np.dot(data,np.transpose(weights))\n",
    "    b = len(np.shape(data))\n",
    "    if b == 1:\n",
    "        return np.argmax(a)\n",
    "    return np.argmax(a, axis=1)\n",
    "\n",
    "\n",
    "def fit(data, labels, weights):\n",
    "    a = np.shape(labels)\n",
    "    predicted = result(data, weights)\n",
    "    correct = predicted == labels\n",
    "    accuracy = np.sum(correct)/float(a[0])\n",
    "    return accuracy"
   ]
  },
  {
   "cell_type": "code",
   "execution_count": 87,
   "metadata": {},
   "outputs": [
    {
     "name": "stdout",
     "output_type": "stream",
     "text": [
      "0.849\n"
     ]
    }
   ],
   "source": [
    "# Now we shall see the accuracy on the test dataset\n",
    "print(fit(X_test, y_test, Value))"
   ]
  },
  {
   "cell_type": "markdown",
   "metadata": {},
   "source": [
    "We can see an improvement from the gradient descent. The accuracy has increased further from 76.5% to 84.9%. This is a brilliant accuracy of the dataset."
   ]
  }
 ],
 "metadata": {
  "kernelspec": {
   "display_name": "Python 3",
   "language": "python",
   "name": "python3"
  },
  "language_info": {
   "codemirror_mode": {
    "name": "ipython",
    "version": 3
   },
   "file_extension": ".py",
   "mimetype": "text/x-python",
   "name": "python",
   "nbconvert_exporter": "python",
   "pygments_lexer": "ipython3",
   "version": "3.7.1"
  }
 },
 "nbformat": 4,
 "nbformat_minor": 2
}
