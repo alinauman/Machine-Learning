{
 "cells": [
  {
   "cell_type": "markdown",
   "metadata": {},
   "source": [
    "# MNIST Dataset\n",
    "In this notebook we will use the Normal Equation, Gradient Descent and Perceptron Learning. Furthermore, we will check the accuracy. "
   ]
  },
  {
   "cell_type": "code",
   "execution_count": 1,
   "metadata": {},
   "outputs": [],
   "source": [
    "#Importing Libraries\n",
    "import pandas as pd\n",
    "import numpy as np\n",
    "import matplotlib.pyplot as plt\n",
    "import random"
   ]
  },
  {
   "cell_type": "markdown",
   "metadata": {},
   "source": [
    "Importing the data using pandas dataframe.  "
   ]
  },
  {
   "cell_type": "code",
   "execution_count": 2,
   "metadata": {},
   "outputs": [],
   "source": [
    "train = pd.read_csv('D:\\Projects\\MLProjects\\mnist_train.csv')"
   ]
  },
  {
   "cell_type": "markdown",
   "metadata": {},
   "source": [
    "Let's have a look at the shape of the dataset"
   ]
  },
  {
   "cell_type": "code",
   "execution_count": 3,
   "metadata": {},
   "outputs": [
    {
     "data": {
      "text/plain": [
       "(59999, 785)"
      ]
     },
     "execution_count": 3,
     "metadata": {},
     "output_type": "execute_result"
    }
   ],
   "source": [
    "train.shape"
   ]
  },
  {
   "cell_type": "markdown",
   "metadata": {},
   "source": [
    "Also, let's have a look into the rows of the dataset"
   ]
  },
  {
   "cell_type": "code",
   "execution_count": 4,
   "metadata": {},
   "outputs": [
    {
     "data": {
      "text/plain": [
       "<bound method NDFrame.head of       7  0  0.1  0.2  0.3  0.4  0.5  0.6  0.7  0.8  ...    0.658  0.659  \\\n",
       "0     2  0    0    0    0    0    0    0    0    0  ...        0      0   \n",
       "1     1  0    0    0    0    0    0    0    0    0  ...        0      0   \n",
       "2     0  0    0    0    0    0    0    0    0    0  ...        0      0   \n",
       "3     4  0    0    0    0    0    0    0    0    0  ...        0      0   \n",
       "4     1  0    0    0    0    0    0    0    0    0  ...        0      0   \n",
       "5     4  0    0    0    0    0    0    0    0    0  ...        0      0   \n",
       "6     9  0    0    0    0    0    0    0    0    0  ...        0      0   \n",
       "7     5  0    0    0    0    0    0    0    0    0  ...        0      0   \n",
       "8     9  0    0    0    0    0    0    0    0    0  ...        0      0   \n",
       "9     0  0    0    0    0    0    0    0    0    0  ...        0      0   \n",
       "10    6  0    0    0    0    0    0    0    0    0  ...        0      0   \n",
       "11    9  0    0    0    0    0    0    0    0    0  ...        0      0   \n",
       "12    0  0    0    0    0    0    0    0    0    0  ...        0      0   \n",
       "13    1  0    0    0    0    0    0    0    0    0  ...        0      0   \n",
       "14    5  0    0    0    0    0    0    0    0    0  ...        0      0   \n",
       "15    9  0    0    0    0    0    0    0    0    0  ...        0      0   \n",
       "16    7  0    0    0    0    0    0    0    0    0  ...        0      0   \n",
       "17    3  0    0    0    0    0    0    0    0    0  ...        0      0   \n",
       "18    4  0    0    0    0    0    0    0    0    0  ...        0      0   \n",
       "19    9  0    0    0    0    0    0    0    0    0  ...        0      0   \n",
       "20    6  0    0    0    0    0    0    0    0    0  ...        0      0   \n",
       "21    6  0    0    0    0    0    0    0    0    0  ...        0      0   \n",
       "22    5  0    0    0    0    0    0    0    0    0  ...        0      0   \n",
       "23    4  0    0    0    0    0    0    0    0    0  ...        0      0   \n",
       "24    0  0    0    0    0    0    0    0    0    0  ...        0      0   \n",
       "25    7  0    0    0    0    0    0    0    0    0  ...        0      0   \n",
       "26    4  0    0    0    0    0    0    0    0    0  ...        0      0   \n",
       "27    0  0    0    0    0    0    0    0    0    0  ...        0      0   \n",
       "28    1  0    0    0    0    0    0    0    0    0  ...        0      0   \n",
       "29    3  0    0    0    0    0    0    0    0    0  ...        0      0   \n",
       "...  .. ..  ...  ...  ...  ...  ...  ...  ...  ...  ...      ...    ...   \n",
       "9969  5  0    0    0    0    0    0    0    0    0  ...        0      0   \n",
       "9970  2  0    0    0    0    0    0    0    0    0  ...        0      0   \n",
       "9971  4  0    0    0    0    0    0    0    0    0  ...        0      0   \n",
       "9972  9  0    0    0    0    0    0    0    0    0  ...        0      0   \n",
       "9973  4  0    0    0    0    0    0    0    0    0  ...        0      0   \n",
       "9974  3  0    0    0    0    0    0    0    0    0  ...        0      0   \n",
       "9975  6  0    0    0    0    0    0    0    0    0  ...        0      0   \n",
       "9976  4  0    0    0    0    0    0    0    0    0  ...        0      0   \n",
       "9977  1  0    0    0    0    0    0    0    0    0  ...        0      0   \n",
       "9978  7  0    0    0    0    0    0    0    0    0  ...        0      0   \n",
       "9979  2  0    0    0    0    0    0    0    0    0  ...        0      0   \n",
       "9980  6  0    0    0    0    0    0    0    0    0  ...        0      0   \n",
       "9981  5  0    0    0    0    0    0    0    0    0  ...        0      0   \n",
       "9982  0  0    0    0    0    0    0    0    0    0  ...        0      0   \n",
       "9983  1  0    0    0    0    0    0    0    0    0  ...        0      0   \n",
       "9984  2  0    0    0    0    0    0    0    0    0  ...        0      0   \n",
       "9985  3  0    0    0    0    0    0    0    0    0  ...        0      0   \n",
       "9986  4  0    0    0    0    0    0    0    0    0  ...        0      0   \n",
       "9987  5  0    0    0    0    0    0    0    0    0  ...        0      0   \n",
       "9988  6  0    0    0    0    0    0    0    0    0  ...        0      0   \n",
       "9989  7  0    0    0    0    0    0    0    0    0  ...        0      0   \n",
       "9990  8  0    0    0    0    0    0    0    0    0  ...        0      0   \n",
       "9991  9  0    0    0    0    0    0    0    0    0  ...        0      0   \n",
       "9992  0  0    0    0    0    0    0    0    0    0  ...        0      0   \n",
       "9993  1  0    0    0    0    0    0    0    0    0  ...        0      0   \n",
       "9994  2  0    0    0    0    0    0    0    0    0  ...        0      0   \n",
       "9995  3  0    0    0    0    0    0    0    0    0  ...        0      0   \n",
       "9996  4  0    0    0    0    0    0    0    0    0  ...        0      0   \n",
       "9997  5  0    0    0    0    0    0    0    0    0  ...        0      0   \n",
       "9998  6  0    0    0    0    0    0    0    0    0  ...        0      0   \n",
       "\n",
       "      0.660  0.661  0.662  0.663  0.664  0.665  0.666  0.667  \n",
       "0         0      0      0      0      0      0      0      0  \n",
       "1         0      0      0      0      0      0      0      0  \n",
       "2         0      0      0      0      0      0      0      0  \n",
       "3         0      0      0      0      0      0      0      0  \n",
       "4         0      0      0      0      0      0      0      0  \n",
       "5         0      0      0      0      0      0      0      0  \n",
       "6         0      0      0      0      0      0      0      0  \n",
       "7         0      0      0      0      0      0      0      0  \n",
       "8         0      0      0      0      0      0      0      0  \n",
       "9         0      0      0      0      0      0      0      0  \n",
       "10        0      0      0      0      0      0      0      0  \n",
       "11        0      0      0      0      0      0      0      0  \n",
       "12        0      0      0      0      0      0      0      0  \n",
       "13        0      0      0      0      0      0      0      0  \n",
       "14        0      0      0      0      0      0      0      0  \n",
       "15        0      0      0      0      0      0      0      0  \n",
       "16        0      0      0      0      0      0      0      0  \n",
       "17        0      0      0      0      0      0      0      0  \n",
       "18        0      0      0      0      0      0      0      0  \n",
       "19        0      0      0      0      0      0      0      0  \n",
       "20        0      0      0      0      0      0      0      0  \n",
       "21        0      0      0      0      0      0      0      0  \n",
       "22        0      0      0      0      0      0      0      0  \n",
       "23        0      0      0      0      0      0      0      0  \n",
       "24        0      0      0      0      0      0      0      0  \n",
       "25        0      0      0      0      0      0      0      0  \n",
       "26        0      0      0      0      0      0      0      0  \n",
       "27        0      0      0      0      0      0      0      0  \n",
       "28        0      0      0      0      0      0      0      0  \n",
       "29        0      0      0      0      0      0      0      0  \n",
       "...     ...    ...    ...    ...    ...    ...    ...    ...  \n",
       "9969      0      0      0      0      0      0      0      0  \n",
       "9970      0      0      0      0      0      0      0      0  \n",
       "9971      0      0      0      0      0      0      0      0  \n",
       "9972      0      0      0      0      0      0      0      0  \n",
       "9973      0      0      0      0      0      0      0      0  \n",
       "9974      0      0      0      0      0      0      0      0  \n",
       "9975      0      0      0      0      0      0      0      0  \n",
       "9976      0      0      0      0      0      0      0      0  \n",
       "9977      0      0      0      0      0      0      0      0  \n",
       "9978      0      0      0      0      0      0      0      0  \n",
       "9979      0      0      0      0      0      0      0      0  \n",
       "9980      0      0      0      0      0      0      0      0  \n",
       "9981      0      0      0      0      0      0      0      0  \n",
       "9982      0      0      0      0      0      0      0      0  \n",
       "9983      0      0      0      0      0      0      0      0  \n",
       "9984      0      0      0      0      0      0      0      0  \n",
       "9985      0      0      0      0      0      0      0      0  \n",
       "9986      0      0      0      0      0      0      0      0  \n",
       "9987      0      0      0      0      0      0      0      0  \n",
       "9988      0      0      0      0      0      0      0      0  \n",
       "9989      0      0      0      0      0      0      0      0  \n",
       "9990      0      0      0      0      0      0      0      0  \n",
       "9991      0      0      0      0      0      0      0      0  \n",
       "9992      0      0      0      0      0      0      0      0  \n",
       "9993      0      0      0      0      0      0      0      0  \n",
       "9994      0      0      0      0      0      0      0      0  \n",
       "9995      0      0      0      0      0      0      0      0  \n",
       "9996      0      0      0      0      0      0      0      0  \n",
       "9997      0      0      0      0      0      0      0      0  \n",
       "9998      0      0      0      0      0      0      0      0  \n",
       "\n",
       "[9999 rows x 785 columns]>"
      ]
     },
     "execution_count": 4,
     "metadata": {},
     "output_type": "execute_result"
    }
   ],
   "source": [
    "train.head"
   ]
  },
  {
   "cell_type": "markdown",
   "metadata": {},
   "source": [
    "We see it as n x m matrix, with n = 9999 examples(images) in the dataset. "
   ]
  },
  {
   "cell_type": "code",
   "execution_count": 5,
   "metadata": {},
   "outputs": [],
   "source": [
    "#Select 5 random examples from the dataset\n",
    "random_examples = random.sample(range(train.shape[0]), 5)"
   ]
  },
  {
   "cell_type": "code",
   "execution_count": 6,
   "metadata": {},
   "outputs": [],
   "source": [
    "#Original image is found by reshaping the rows\n",
    "orig_img = [np.array(train.iloc[element,1:]).reshape(28,28) for element in random_examples]\n",
    "\n",
    "#784 dimensional array form\n",
    "array_form = [np.array(train.iloc[element,1:]) for element in random_examples]"
   ]
  },
  {
   "cell_type": "code",
   "execution_count": 7,
   "metadata": {},
   "outputs": [
    {
     "data": {
      "image/png": "[encoded data removed]",
      "text/plain": [
       "<Figure size 432x288 with 5 Axes>"
      ]
     },
     "metadata": {},
     "output_type": "display_data"
    }
   ],
   "source": [
    "# Visualizing the original images\n",
    "fig, axes = plt.subplots(nrows=1, ncols=5)\n",
    "i=0\n",
    "for x in axes:\n",
    "    x.imshow(orig_img[i], cmap = 'gist_gray')\n",
    "    i += 1\n",
    "fig.tight_layout()"
   ]
  },
  {
   "cell_type": "code",
   "execution_count": 8,
   "metadata": {},
   "outputs": [
    {
     "data": {
      "image/png": "[encoded data removed]",
      "text/plain": [
       "<Figure size 432x288 with 5 Axes>"
      ]
     },
     "metadata": {},
     "output_type": "display_data"
    }
   ],
   "source": [
    "#Visualizing the 784-dimensional array\n",
    "fig, axes = plt.subplots(nrows=1, ncols=5)\n",
    "i=0\n",
    "for x in axes:\n",
    "    x.imshow(array_form[0].reshape(784, 1), aspect = 0.02, cmap='gist_gray')\n",
    "    i += 1\n",
    "fig.tight_layout()"
   ]
  },
  {
   "cell_type": "markdown",
   "metadata": {},
   "source": [
    "Now we need to find the general statistical properties of the matrix 'train'. As we know that many of the pixels have intensity '0'. "
   ]
  },
  {
   "cell_type": "code",
   "execution_count": 9,
   "metadata": {},
   "outputs": [
    {
     "data": {
      "text/html": [
       "<div>\n",
       "<style scoped>\n",
       "    .dataframe tbody tr th:only-of-type {\n",
       "        vertical-align: middle;\n",
       "    }\n",
       "\n",
       "    .dataframe tbody tr th {\n",
       "        vertical-align: top;\n",
       "    }\n",
       "\n",
       "    .dataframe thead th {\n",
       "        text-align: right;\n",
       "    }\n",
       "</style>\n",
       "<table border=\"1\" class=\"dataframe\">\n",
       "  <thead>\n",
       "    <tr style=\"text-align: right;\">\n",
       "      <th></th>\n",
       "      <th>7</th>\n",
       "      <th>0</th>\n",
       "      <th>0.1</th>\n",
       "      <th>0.2</th>\n",
       "      <th>0.3</th>\n",
       "      <th>0.4</th>\n",
       "      <th>0.5</th>\n",
       "      <th>0.6</th>\n",
       "      <th>0.7</th>\n",
       "      <th>0.8</th>\n",
       "      <th>...</th>\n",
       "      <th>0.658</th>\n",
       "      <th>0.659</th>\n",
       "      <th>0.660</th>\n",
       "      <th>0.661</th>\n",
       "      <th>0.662</th>\n",
       "      <th>0.663</th>\n",
       "      <th>0.664</th>\n",
       "      <th>0.665</th>\n",
       "      <th>0.666</th>\n",
       "      <th>0.667</th>\n",
       "    </tr>\n",
       "  </thead>\n",
       "  <tbody>\n",
       "    <tr>\n",
       "      <th>count</th>\n",
       "      <td>9999.000000</td>\n",
       "      <td>9999.0</td>\n",
       "      <td>9999.0</td>\n",
       "      <td>9999.0</td>\n",
       "      <td>9999.0</td>\n",
       "      <td>9999.0</td>\n",
       "      <td>9999.0</td>\n",
       "      <td>9999.0</td>\n",
       "      <td>9999.0</td>\n",
       "      <td>9999.0</td>\n",
       "      <td>...</td>\n",
       "      <td>9999.000000</td>\n",
       "      <td>9999.000000</td>\n",
       "      <td>9999.000000</td>\n",
       "      <td>9999.000000</td>\n",
       "      <td>9999.0</td>\n",
       "      <td>9999.0</td>\n",
       "      <td>9999.0</td>\n",
       "      <td>9999.0</td>\n",
       "      <td>9999.0</td>\n",
       "      <td>9999.0</td>\n",
       "    </tr>\n",
       "    <tr>\n",
       "      <th>mean</th>\n",
       "      <td>4.443144</td>\n",
       "      <td>0.0</td>\n",
       "      <td>0.0</td>\n",
       "      <td>0.0</td>\n",
       "      <td>0.0</td>\n",
       "      <td>0.0</td>\n",
       "      <td>0.0</td>\n",
       "      <td>0.0</td>\n",
       "      <td>0.0</td>\n",
       "      <td>0.0</td>\n",
       "      <td>...</td>\n",
       "      <td>0.179318</td>\n",
       "      <td>0.163616</td>\n",
       "      <td>0.052605</td>\n",
       "      <td>0.000600</td>\n",
       "      <td>0.0</td>\n",
       "      <td>0.0</td>\n",
       "      <td>0.0</td>\n",
       "      <td>0.0</td>\n",
       "      <td>0.0</td>\n",
       "      <td>0.0</td>\n",
       "    </tr>\n",
       "    <tr>\n",
       "      <th>std</th>\n",
       "      <td>2.895897</td>\n",
       "      <td>0.0</td>\n",
       "      <td>0.0</td>\n",
       "      <td>0.0</td>\n",
       "      <td>0.0</td>\n",
       "      <td>0.0</td>\n",
       "      <td>0.0</td>\n",
       "      <td>0.0</td>\n",
       "      <td>0.0</td>\n",
       "      <td>0.0</td>\n",
       "      <td>...</td>\n",
       "      <td>5.674433</td>\n",
       "      <td>5.736359</td>\n",
       "      <td>2.420125</td>\n",
       "      <td>0.060003</td>\n",
       "      <td>0.0</td>\n",
       "      <td>0.0</td>\n",
       "      <td>0.0</td>\n",
       "      <td>0.0</td>\n",
       "      <td>0.0</td>\n",
       "      <td>0.0</td>\n",
       "    </tr>\n",
       "    <tr>\n",
       "      <th>min</th>\n",
       "      <td>0.000000</td>\n",
       "      <td>0.0</td>\n",
       "      <td>0.0</td>\n",
       "      <td>0.0</td>\n",
       "      <td>0.0</td>\n",
       "      <td>0.0</td>\n",
       "      <td>0.0</td>\n",
       "      <td>0.0</td>\n",
       "      <td>0.0</td>\n",
       "      <td>0.0</td>\n",
       "      <td>...</td>\n",
       "      <td>0.000000</td>\n",
       "      <td>0.000000</td>\n",
       "      <td>0.000000</td>\n",
       "      <td>0.000000</td>\n",
       "      <td>0.0</td>\n",
       "      <td>0.0</td>\n",
       "      <td>0.0</td>\n",
       "      <td>0.0</td>\n",
       "      <td>0.0</td>\n",
       "      <td>0.0</td>\n",
       "    </tr>\n",
       "    <tr>\n",
       "      <th>25%</th>\n",
       "      <td>2.000000</td>\n",
       "      <td>0.0</td>\n",
       "      <td>0.0</td>\n",
       "      <td>0.0</td>\n",
       "      <td>0.0</td>\n",
       "      <td>0.0</td>\n",
       "      <td>0.0</td>\n",
       "      <td>0.0</td>\n",
       "      <td>0.0</td>\n",
       "      <td>0.0</td>\n",
       "      <td>...</td>\n",
       "      <td>0.000000</td>\n",
       "      <td>0.000000</td>\n",
       "      <td>0.000000</td>\n",
       "      <td>0.000000</td>\n",
       "      <td>0.0</td>\n",
       "      <td>0.0</td>\n",
       "      <td>0.0</td>\n",
       "      <td>0.0</td>\n",
       "      <td>0.0</td>\n",
       "      <td>0.0</td>\n",
       "    </tr>\n",
       "    <tr>\n",
       "      <th>50%</th>\n",
       "      <td>4.000000</td>\n",
       "      <td>0.0</td>\n",
       "      <td>0.0</td>\n",
       "      <td>0.0</td>\n",
       "      <td>0.0</td>\n",
       "      <td>0.0</td>\n",
       "      <td>0.0</td>\n",
       "      <td>0.0</td>\n",
       "      <td>0.0</td>\n",
       "      <td>0.0</td>\n",
       "      <td>...</td>\n",
       "      <td>0.000000</td>\n",
       "      <td>0.000000</td>\n",
       "      <td>0.000000</td>\n",
       "      <td>0.000000</td>\n",
       "      <td>0.0</td>\n",
       "      <td>0.0</td>\n",
       "      <td>0.0</td>\n",
       "      <td>0.0</td>\n",
       "      <td>0.0</td>\n",
       "      <td>0.0</td>\n",
       "    </tr>\n",
       "    <tr>\n",
       "      <th>75%</th>\n",
       "      <td>7.000000</td>\n",
       "      <td>0.0</td>\n",
       "      <td>0.0</td>\n",
       "      <td>0.0</td>\n",
       "      <td>0.0</td>\n",
       "      <td>0.0</td>\n",
       "      <td>0.0</td>\n",
       "      <td>0.0</td>\n",
       "      <td>0.0</td>\n",
       "      <td>0.0</td>\n",
       "      <td>...</td>\n",
       "      <td>0.000000</td>\n",
       "      <td>0.000000</td>\n",
       "      <td>0.000000</td>\n",
       "      <td>0.000000</td>\n",
       "      <td>0.0</td>\n",
       "      <td>0.0</td>\n",
       "      <td>0.0</td>\n",
       "      <td>0.0</td>\n",
       "      <td>0.0</td>\n",
       "      <td>0.0</td>\n",
       "    </tr>\n",
       "    <tr>\n",
       "      <th>max</th>\n",
       "      <td>9.000000</td>\n",
       "      <td>0.0</td>\n",
       "      <td>0.0</td>\n",
       "      <td>0.0</td>\n",
       "      <td>0.0</td>\n",
       "      <td>0.0</td>\n",
       "      <td>0.0</td>\n",
       "      <td>0.0</td>\n",
       "      <td>0.0</td>\n",
       "      <td>0.0</td>\n",
       "      <td>...</td>\n",
       "      <td>253.000000</td>\n",
       "      <td>253.000000</td>\n",
       "      <td>156.000000</td>\n",
       "      <td>6.000000</td>\n",
       "      <td>0.0</td>\n",
       "      <td>0.0</td>\n",
       "      <td>0.0</td>\n",
       "      <td>0.0</td>\n",
       "      <td>0.0</td>\n",
       "      <td>0.0</td>\n",
       "    </tr>\n",
       "  </tbody>\n",
       "</table>\n",
       "<p>8 rows × 785 columns</p>\n",
       "</div>"
      ],
      "text/plain": [
       "                 7       0     0.1     0.2     0.3     0.4     0.5     0.6  \\\n",
       "count  9999.000000  9999.0  9999.0  9999.0  9999.0  9999.0  9999.0  9999.0   \n",
       "mean      4.443144     0.0     0.0     0.0     0.0     0.0     0.0     0.0   \n",
       "std       2.895897     0.0     0.0     0.0     0.0     0.0     0.0     0.0   \n",
       "min       0.000000     0.0     0.0     0.0     0.0     0.0     0.0     0.0   \n",
       "25%       2.000000     0.0     0.0     0.0     0.0     0.0     0.0     0.0   \n",
       "50%       4.000000     0.0     0.0     0.0     0.0     0.0     0.0     0.0   \n",
       "75%       7.000000     0.0     0.0     0.0     0.0     0.0     0.0     0.0   \n",
       "max       9.000000     0.0     0.0     0.0     0.0     0.0     0.0     0.0   \n",
       "\n",
       "          0.7     0.8   ...          0.658        0.659        0.660  \\\n",
       "count  9999.0  9999.0   ...    9999.000000  9999.000000  9999.000000   \n",
       "mean      0.0     0.0   ...       0.179318     0.163616     0.052605   \n",
       "std       0.0     0.0   ...       5.674433     5.736359     2.420125   \n",
       "min       0.0     0.0   ...       0.000000     0.000000     0.000000   \n",
       "25%       0.0     0.0   ...       0.000000     0.000000     0.000000   \n",
       "50%       0.0     0.0   ...       0.000000     0.000000     0.000000   \n",
       "75%       0.0     0.0   ...       0.000000     0.000000     0.000000   \n",
       "max       0.0     0.0   ...     253.000000   253.000000   156.000000   \n",
       "\n",
       "             0.661   0.662   0.663   0.664   0.665   0.666   0.667  \n",
       "count  9999.000000  9999.0  9999.0  9999.0  9999.0  9999.0  9999.0  \n",
       "mean      0.000600     0.0     0.0     0.0     0.0     0.0     0.0  \n",
       "std       0.060003     0.0     0.0     0.0     0.0     0.0     0.0  \n",
       "min       0.000000     0.0     0.0     0.0     0.0     0.0     0.0  \n",
       "25%       0.000000     0.0     0.0     0.0     0.0     0.0     0.0  \n",
       "50%       0.000000     0.0     0.0     0.0     0.0     0.0     0.0  \n",
       "75%       0.000000     0.0     0.0     0.0     0.0     0.0     0.0  \n",
       "max       6.000000     0.0     0.0     0.0     0.0     0.0     0.0  \n",
       "\n",
       "[8 rows x 785 columns]"
      ]
     },
     "execution_count": 9,
     "metadata": {},
     "output_type": "execute_result"
    }
   ],
   "source": [
    "train.describe()"
   ]
  },
  {
   "cell_type": "code",
   "execution_count": 10,
   "metadata": {},
   "outputs": [
    {
     "data": {
      "text/plain": [
       "'0.370'"
      ]
     },
     "execution_count": 10,
     "metadata": {},
     "output_type": "execute_result"
    }
   ],
   "source": [
    "# Now we find the most likely pixel containing the digit\n",
    "# This can be calculated by finding the pixel column with the maximum mean\n",
    "a = train.describe().loc['mean'].idxmax()\n",
    "a"
   ]
  },
  {
   "cell_type": "markdown",
   "metadata": {},
   "source": [
    "### Splitting the dataset into Training Set and Test Set."
   ]
  },
  {
   "cell_type": "code",
   "execution_count": 5,
   "metadata": {},
   "outputs": [],
   "source": [
    "# Loading the test dataset\n",
    "test = pd.read_csv('D:\\Projects\\MLProjects\\mnist_test.csv')\n",
    "\n",
    "# Dividing the train dataset\n",
    "y_train = train.iloc[:,0].values\n",
    "X_train = train.iloc[:,1:].values\n",
    "\n",
    "# Dividing the test dataset\n",
    "y_test = test.iloc[:,0].values\n",
    "X_test = test.iloc[:,1:].values"
   ]
  },
  {
   "cell_type": "markdown",
   "metadata": {},
   "source": [
    "## Normal Equation Implementation"
   ]
  },
  {
   "cell_type": "markdown",
   "metadata": {},
   "source": [
    "We will be implementing the normal equation. "
   ]
  },
  {
   "cell_type": "code",
   "execution_count": 12,
   "metadata": {},
   "outputs": [],
   "source": [
    "# Finding the transpose of the Train Data\n",
    "transpose_matrix = X_train.transpose()"
   ]
  },
  {
   "cell_type": "code",
   "execution_count": 13,
   "metadata": {},
   "outputs": [],
   "source": [
    "# This will be followed by the matrix multiplication of the 'transpose_matrix' and 'X_train'\n",
    "matrix_mult = np.matmul(transpose_matrix , X_train)"
   ]
  },
  {
   "cell_type": "code",
   "execution_count": 14,
   "metadata": {},
   "outputs": [],
   "source": [
    "#Inverse of the 'matrix_mult'\n",
    "inverse = np.linalg.pinv(matrix_mult)"
   ]
  },
  {
   "cell_type": "code",
   "execution_count": 15,
   "metadata": {},
   "outputs": [],
   "source": [
    "# Matrix Multiplication of the 'transpose_matrix' and 'y_train'\n",
    "mult_ = np.matmul(transpose_matrix, y_train)"
   ]
  },
  {
   "cell_type": "code",
   "execution_count": 16,
   "metadata": {},
   "outputs": [
    {
     "data": {
      "text/plain": [
       "(784,)"
      ]
     },
     "execution_count": 16,
     "metadata": {},
     "output_type": "execute_result"
    }
   ],
   "source": [
    "# This is the final weight\n",
    "result_ = np.matmul(inverse,mult_)\n",
    "result_.shape"
   ]
  },
  {
   "cell_type": "code",
   "execution_count": 17,
   "metadata": {},
   "outputs": [
    {
     "data": {
      "text/plain": [
       "(2000, 784)"
      ]
     },
     "execution_count": 17,
     "metadata": {},
     "output_type": "execute_result"
    }
   ],
   "source": [
    "#Checking shape of 'X_test'\n",
    "X_test.shape"
   ]
  },
  {
   "cell_type": "code",
   "execution_count": 20,
   "metadata": {},
   "outputs": [],
   "source": [
    "# Making final predictions on the 'X-test' data\n",
    "y_pred = np.dot(X_test, result_)"
   ]
  },
  {
   "cell_type": "code",
   "execution_count": 24,
   "metadata": {},
   "outputs": [
    {
     "data": {
      "text/plain": [
       "array([ 2.60094179,  6.66979254,  1.7626087 , ..., -1.56534493,\n",
       "        9.0202329 ,  1.80550508])"
      ]
     },
     "execution_count": 24,
     "metadata": {},
     "output_type": "execute_result"
    }
   ],
   "source": [
    "#y_test\n",
    "y_pred"
   ]
  },
  {
   "cell_type": "markdown",
   "metadata": {},
   "source": [
    "# Gradient Descent Implementation\n",
    "We shall be implementing gradient descent with the cost fucntion"
   ]
  },
  {
   "cell_type": "code",
   "execution_count": 5,
   "metadata": {},
   "outputs": [],
   "source": [
    "#Normalizes each pixel column[-1,1]\n",
    "def normalize(X):\n",
    "    M = X.shape[1]\n",
    "    for i in range(M):\n",
    "        if np.any(X[:,i]) != 0:\n",
    "            min_value = X[:,i].min()\n",
    "            max_value = X[:,i].max()\n",
    "            X[:,i] =(2*X[:,i]- min_value - max_value)/(max_value - min_value)\n",
    "\n",
    "def append_ones(X):\n",
    "    s = X.shape[0]\n",
    "    ones = np.ones(shape=(s,1))\n",
    "    return np.concatenate((ones, X), axis=1)\n",
    "\n",
    "# Hence using the normalize and append_ones on both 'X_train' and 'X_test'\n",
    "X_train = np.array(X_train)\n",
    "normalize(X_train)\n",
    "X_train = append_ones(X_train)\n",
    "\n",
    "X_test = np.array(X_test)\n",
    "normalize(X_test)\n",
    "X_test = append_ones(X_test)"
   ]
  },
  {
   "cell_type": "code",
   "execution_count": 6,
   "metadata": {},
   "outputs": [],
   "source": [
    "# Now we need to create a vector for each digit to be stored\n",
    "y_target = []\n",
    "for i in range(10):\n",
    "    y_target.append(y_train.apply(lambda x: 1 if x == i else 0))"
   ]
  },
  {
   "cell_type": "code",
   "execution_count": 7,
   "metadata": {},
   "outputs": [],
   "source": [
    "theta=[]\n",
    "\n",
    "#Cost Function \n",
    "def cost(X, y , theta):\n",
    "    dim = X.shape[0]\n",
    "    dot_product = np.power(((X @ theta.T) - y), 2)\n",
    "    return np.sum(dot_product) / (2 * dim)\n",
    "    \n",
    "#Gradient of the cost function\n",
    "def grad_cost(X, y, theta):\n",
    "    dim = X.shape[0]\n",
    "    pred = np.dot(X,theta)\n",
    "    c1 = 1/dim * np.transpose(pred-y)\n",
    "    return np.transpose(np.dot(c1,X))\n",
    "\n",
    "#Gradient descent \n",
    "def grad_descent(X, y, theta, learning_par, num_iter):\n",
    "    for i in range(num_iter):\n",
    "        theta = theta - learning_par*grad_cost(X,y,theta)\n",
    "        \n",
    "    return theta"
   ]
  },
  {
   "cell_type": "code",
   "execution_count": 13,
   "metadata": {},
   "outputs": [
    {
     "name": "stdout",
     "output_type": "stream",
     "text": [
      "0: Completed for this digit!\n",
      "1: Completed for this digit!\n",
      "2: Completed for this digit!\n",
      "3: Completed for this digit!\n",
      "4: Completed for this digit!\n",
      "5: Completed for this digit!\n",
      "6: Completed for this digit!\n",
      "7: Completed for this digit!\n",
      "8: Completed for this digit!\n",
      "9: Completed for this digit!\n"
     ]
    }
   ],
   "source": [
    "# Main Implementation\n",
    "for i in range(10):\n",
    "    y_temp = np.array(y_target[i])\n",
    "    y_temp = y_temp.reshape(y_train.shape[0],1)\n",
    "\n",
    "    theta_temp = np.zeros(shape=(X_train.shape[1],1))\n",
    "\n",
    "    learning_rate = 0.0000001\n",
    "    iterations = 1000\n",
    "\n",
    "    theta_temp = grad_descent(X_train,y_temp,theta_temp,learning_rate,iterations)\n",
    "    theta.append(theta_temp)\n",
    "    print('{}: Completed for this digit!'.format(i))"
   ]
  },
  {
   "cell_type": "code",
   "execution_count": 14,
   "metadata": {},
   "outputs": [
    {
     "name": "stdout",
     "output_type": "stream",
     "text": [
      "Accuracy is: 0.7315\n"
     ]
    }
   ],
   "source": [
    "result = [np.dot(X_test,theta[i]) for i in range(10)]\n",
    "result = np.transpose(np.array(result)).reshape(X_test.shape[0],10)\n",
    "\n",
    "prediction = (np.array([element.argmax() for element in result])).reshape(X_test.shape[0],1)\n",
    "\n",
    "y_test = np.array(y_test)\n",
    "y_test = y_test.reshape(y_test.shape[0],1)\n",
    "\n",
    "\n",
    "accuracy = sum(prediction == y_test)[0]/(y_test.shape[0])\n",
    "print('Accuracy is: {}'.format(accuracy))"
   ]
  },
  {
   "cell_type": "markdown",
   "metadata": {},
   "source": [
    "The accuracy is very good, around 73.15%. We shall now implement Perceptron Learning and see if we can further improve. "
   ]
  },
  {
   "cell_type": "markdown",
   "metadata": {},
   "source": [
    "# Perceptron Learning\n",
    "Furthering our learning to see if this increases the accuracy"
   ]
  },
  {
   "cell_type": "code",
   "execution_count": 22,
   "metadata": {},
   "outputs": [],
   "source": [
    "# Now we shall create functions to work on Perceptron Learning Model\n",
    "def create_weights(data):\n",
    "    a, b = np.shape(data)\n",
    "    weights = np.random.rand(b,1)\n",
    "    return weights\n",
    "\n",
    "weights = create_weights(X_train)"
   ]
  },
  {
   "cell_type": "code",
   "execution_count": 23,
   "metadata": {},
   "outputs": [],
   "source": [
    "def predict(points, weights):\n",
    "    b = np.dot(points, weights)\n",
    "    a = b>0\n",
    "    return a*1"
   ]
  },
  {
   "cell_type": "code",
   "execution_count": 24,
   "metadata": {},
   "outputs": [],
   "source": [
    "# Now we need to call this for all the 10 digits but first we need to make it work for one number\n",
    "def one_digit(labels, number):\n",
    "    return (labels == number)*1"
   ]
  },
  {
   "cell_type": "code",
   "execution_count": 25,
   "metadata": {},
   "outputs": [],
   "source": [
    "# We shall use a function to update values, and call the predict function\n",
    "def update(weights, points, labels, learning_rate=.1):\n",
    "    predicted = predict(points, weights)\n",
    "    temp = np.zeros(np.shape(weights))\n",
    "    temp[:,0] = learning_rate*(labels-predicted)*points\n",
    "    return temp+weights"
   ]
  },
  {
   "cell_type": "code",
   "execution_count": 26,
   "metadata": {},
   "outputs": [],
   "source": [
    "# Now we shall train the perceptron on the training dataset\n",
    "def perceptron(data, labels, weights, learning_rate = .001, iterations = 100):\n",
    "    for j in range(0, iterations):\n",
    "        for i in range(0, len(data)):\n",
    "            weights = update(weights, data[i], labels[i], learning_rate)\n",
    "    return weights"
   ]
  },
  {
   "cell_type": "code",
   "execution_count": 27,
   "metadata": {},
   "outputs": [],
   "source": [
    "# Calling this for all 10 digits\n",
    "def all_digits(data,labels):\n",
    "    c,d = np.shape(data)\n",
    "    w = create_weights(data)\n",
    "    weights = []\n",
    "    for i in range(0,  len(np.unique(labels))):\n",
    "        z = one_digit(labels, i)\n",
    "        a = perceptron(data, z, w, .1, 4)\n",
    "        weights.append(a[:,0])\n",
    "    return np.asarray(weights)"
   ]
  },
  {
   "cell_type": "code",
   "execution_count": 28,
   "metadata": {},
   "outputs": [],
   "source": [
    "Value = all_digits(X_train, y_train)"
   ]
  },
  {
   "cell_type": "code",
   "execution_count": 30,
   "metadata": {},
   "outputs": [],
   "source": [
    "def result(data, weights):\n",
    "    a = np.dot(data,np.transpose(weights))\n",
    "    b = len(np.shape(data))\n",
    "    if b == 1:\n",
    "        return np.argmax(a)\n",
    "    return np.argmax(a, axis=1)\n",
    "\n",
    "\n",
    "def fit(data, labels, weights):\n",
    "    a = np.shape(labels)\n",
    "    predicted = result(data, weights)\n",
    "    correct = predicted == labels\n",
    "    accuracy = np.sum(correct)/float(a[0])\n",
    "    return accuracy"
   ]
  },
  {
   "cell_type": "code",
   "execution_count": 31,
   "metadata": {},
   "outputs": [
    {
     "name": "stdout",
     "output_type": "stream",
     "text": [
      "0.854\n"
     ]
    }
   ],
   "source": [
    "# Now we shall see the accuracy on the test dataset\n",
    "print(fit(X_test, y_test, Value))"
   ]
  },
  {
   "cell_type": "markdown",
   "metadata": {},
   "source": [
    "We can see an improvement from the gradient descent. The accuracy has increased further from 73.15% to 85.4%. This is a brilliant accuracy of the dataset. "
   ]
  }
 ],
 "metadata": {
  "kernelspec": {
   "display_name": "Python 3",
   "language": "python",
   "name": "python3"
  },
  "language_info": {
   "codemirror_mode": {
    "name": "ipython",
    "version": 3
   },
   "file_extension": ".py",
   "mimetype": "text/x-python",
   "name": "python",
   "nbconvert_exporter": "python",
   "pygments_lexer": "ipython3",
   "version": "3.7.1"
  }
 },
 "nbformat": 4,
 "nbformat_minor": 2
}
